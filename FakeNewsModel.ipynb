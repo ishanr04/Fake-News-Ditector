{
 "cells": [
  {
   "cell_type": "code",
   "execution_count": 1,
   "metadata": {
    "collapsed": true
   },
   "outputs": [
    {
     "name": "stdout",
     "output_type": "stream",
     "text": [
      "Collecting catboost\r\n",
      "  Using cached catboost-1.0.6-cp38-none-macosx_10_6_universal2.whl (21.9 MB)\r\n",
      "Collecting graphviz\r\n",
      "  Using cached graphviz-0.20-py3-none-any.whl (46 kB)\r\n",
      "Collecting scipy\r\n",
      "  Using cached scipy-1.8.1-cp38-cp38-macosx_12_0_arm64.whl (28.6 MB)\r\n",
      "Requirement already satisfied: six in ./venv/lib/python3.8/site-packages (from catboost) (1.16.0)\r\n",
      "Collecting plotly\r\n",
      "  Using cached plotly-5.9.0-py2.py3-none-any.whl (15.2 MB)\r\n",
      "Collecting pandas>=0.24.0\r\n",
      "  Using cached pandas-1.4.3-cp38-cp38-macosx_11_0_arm64.whl (10.3 MB)\r\n",
      "Collecting matplotlib\r\n",
      "  Using cached matplotlib-3.5.2-cp38-cp38-macosx_11_0_arm64.whl (7.2 MB)\r\n",
      "Collecting numpy>=1.16.0\r\n",
      "  Using cached numpy-1.23.1-cp38-cp38-macosx_11_0_arm64.whl (13.3 MB)\r\n",
      "Requirement already satisfied: python-dateutil>=2.8.1 in ./venv/lib/python3.8/site-packages (from pandas>=0.24.0->catboost) (2.8.2)\r\n",
      "Collecting pytz>=2020.1\r\n",
      "  Using cached pytz-2022.1-py2.py3-none-any.whl (503 kB)\r\n",
      "Collecting pillow>=6.2.0\r\n",
      "  Using cached Pillow-9.2.0-cp38-cp38-macosx_11_0_arm64.whl (2.8 MB)\r\n",
      "Collecting fonttools>=4.22.0\r\n",
      "  Using cached fonttools-4.34.4-py3-none-any.whl (944 kB)\r\n",
      "Collecting kiwisolver>=1.0.1\r\n",
      "  Using cached kiwisolver-1.4.4-cp38-cp38-macosx_11_0_arm64.whl (63 kB)\r\n",
      "Requirement already satisfied: packaging>=20.0 in ./venv/lib/python3.8/site-packages (from matplotlib->catboost) (21.3)\r\n",
      "Collecting cycler>=0.10\r\n",
      "  Using cached cycler-0.11.0-py3-none-any.whl (6.4 kB)\r\n",
      "Requirement already satisfied: pyparsing>=2.2.1 in ./venv/lib/python3.8/site-packages (from matplotlib->catboost) (3.0.9)\r\n",
      "Collecting tenacity>=6.2.0\r\n",
      "  Using cached tenacity-8.0.1-py3-none-any.whl (24 kB)\r\n",
      "Installing collected packages: tenacity, pytz, pillow, numpy, kiwisolver, fonttools, cycler, scipy, plotly, pandas, matplotlib, graphviz, catboost\r\n",
      "Successfully installed catboost-1.0.6 cycler-0.11.0 fonttools-4.34.4 graphviz-0.20 kiwisolver-1.4.4 matplotlib-3.5.2 numpy-1.23.1 pandas-1.4.3 pillow-9.2.0 plotly-5.9.0 pytz-2022.1 scipy-1.8.1 tenacity-8.0.1\r\n",
      "\u001B[33mWARNING: You are using pip version 21.3.1; however, version 22.1.2 is available.\r\n",
      "You should consider upgrading via the '/Users/ishanranasinghe/PycharmProjects/FakeNewsFinal/venv/bin/python -m pip install --upgrade pip' command.\u001B[0m\r\n"
     ]
    }
   ],
   "source": [
    "import content as content\n",
    "!pip install catboost"
   ]
  },
  {
   "cell_type": "code",
   "execution_count": 31,
   "outputs": [],
   "source": [
    "import pandas as pd\n",
    "import seaborn as sns\n",
    "import matplotlib.pyplot as plt\n",
    "from nltk.corpus import stopwords\n",
    "from sklearn.feature_extraction.text import CountVectorizer\n",
    "from sklearn.model_selection import train_test_split\n",
    "from sklearn.ensemble import RandomForestClassifier\n",
    "import xgboost\n",
    "import catboost\n",
    "from sklearn.metrics import classification_report\n",
    "from sklearn.metrics import accuracy_score\n",
    "from sklearn.metrics import precision_score\n",
    "from sklearn.metrics import recall_score\n",
    "from sklearn.metrics import f1_score\n",
    "from sklearn.metrics import confusion_matrix\n",
    "import string"
   ],
   "metadata": {
    "collapsed": false,
    "pycharm": {
     "name": "#%%\n"
    }
   }
  },
  {
   "cell_type": "code",
   "execution_count": 3,
   "outputs": [
    {
     "name": "stderr",
     "output_type": "stream",
     "text": [
      "[nltk_data] Downloading package stopwords to\n",
      "[nltk_data]     /Users/ishanranasinghe/nltk_data...\n",
      "[nltk_data]   Package stopwords is already up-to-date!\n"
     ]
    },
    {
     "data": {
      "text/plain": "True"
     },
     "execution_count": 3,
     "metadata": {},
     "output_type": "execute_result"
    }
   ],
   "source": [
    "import nltk\n",
    "nltk.download('stopwords')"
   ],
   "metadata": {
    "collapsed": false,
    "pycharm": {
     "name": "#%%\n"
    }
   }
  },
  {
   "cell_type": "code",
   "execution_count": 4,
   "outputs": [],
   "source": [
    "df = pd.read_csv('/Users/ishanranasinghe/Desktop/Fake_News_Test_Master/Fake News Dataset.csv')"
   ],
   "metadata": {
    "collapsed": false,
    "pycharm": {
     "name": "#%%\n"
    }
   }
  },
  {
   "cell_type": "code",
   "execution_count": 5,
   "outputs": [
    {
     "data": {
      "text/plain": "   id                                              title  \\\n0   0  House Dem Aide: We Didn’t Even See Comey’s Let...   \n1   1  FLYNN: Hillary Clinton, Big Woman on Campus - ...   \n2   2                  Why the Truth Might Get You Fired   \n3   3  15 Civilians Killed In Single US Airstrike Hav...   \n4   4  Iranian woman jailed for fictional unpublished...   \n5   5  Jackie Mason: Hollywood Would Love Trump if He...   \n6   6  Life: Life Of Luxury: Elton John’s 6 Favorite ...   \n7   7  Benoît Hamon Wins French Socialist Party’s Pre...   \n8   8  Excerpts From a Draft Script for Donald Trump’...   \n9   9  A Back-Channel Plan for Ukraine and Russia, Co...   \n\n                         author  \\\n0                 Darrell Lucus   \n1               Daniel J. Flynn   \n2            Consortiumnews.com   \n3               Jessica Purkiss   \n4                Howard Portnoy   \n5               Daniel Nussbaum   \n6                           NaN   \n7               Alissa J. Rubin   \n8                           NaN   \n9  Megan Twohey and Scott Shane   \n\n                                                text  label  \n0  House Dem Aide: We Didn’t Even See Comey’s Let...      1  \n1  Ever get the feeling your life circles the rou...      0  \n2  Why the Truth Might Get You Fired October 29, ...      1  \n3  Videos 15 Civilians Killed In Single US Airstr...      1  \n4  Print \\nAn Iranian woman has been sentenced to...      1  \n5  In these trying times, Jackie Mason is the Voi...      0  \n6  Ever wonder how Britain’s most iconic pop pian...      1  \n7  PARIS  —   France chose an idealistic, traditi...      0  \n8  Donald J. Trump is scheduled to make a highly ...      0  \n9  A week before Michael T. Flynn resigned as nat...      0  ",
      "text/html": "<div>\n<style scoped>\n    .dataframe tbody tr th:only-of-type {\n        vertical-align: middle;\n    }\n\n    .dataframe tbody tr th {\n        vertical-align: top;\n    }\n\n    .dataframe thead th {\n        text-align: right;\n    }\n</style>\n<table border=\"1\" class=\"dataframe\">\n  <thead>\n    <tr style=\"text-align: right;\">\n      <th></th>\n      <th>id</th>\n      <th>title</th>\n      <th>author</th>\n      <th>text</th>\n      <th>label</th>\n    </tr>\n  </thead>\n  <tbody>\n    <tr>\n      <th>0</th>\n      <td>0</td>\n      <td>House Dem Aide: We Didn’t Even See Comey’s Let...</td>\n      <td>Darrell Lucus</td>\n      <td>House Dem Aide: We Didn’t Even See Comey’s Let...</td>\n      <td>1</td>\n    </tr>\n    <tr>\n      <th>1</th>\n      <td>1</td>\n      <td>FLYNN: Hillary Clinton, Big Woman on Campus - ...</td>\n      <td>Daniel J. Flynn</td>\n      <td>Ever get the feeling your life circles the rou...</td>\n      <td>0</td>\n    </tr>\n    <tr>\n      <th>2</th>\n      <td>2</td>\n      <td>Why the Truth Might Get You Fired</td>\n      <td>Consortiumnews.com</td>\n      <td>Why the Truth Might Get You Fired October 29, ...</td>\n      <td>1</td>\n    </tr>\n    <tr>\n      <th>3</th>\n      <td>3</td>\n      <td>15 Civilians Killed In Single US Airstrike Hav...</td>\n      <td>Jessica Purkiss</td>\n      <td>Videos 15 Civilians Killed In Single US Airstr...</td>\n      <td>1</td>\n    </tr>\n    <tr>\n      <th>4</th>\n      <td>4</td>\n      <td>Iranian woman jailed for fictional unpublished...</td>\n      <td>Howard Portnoy</td>\n      <td>Print \\nAn Iranian woman has been sentenced to...</td>\n      <td>1</td>\n    </tr>\n    <tr>\n      <th>5</th>\n      <td>5</td>\n      <td>Jackie Mason: Hollywood Would Love Trump if He...</td>\n      <td>Daniel Nussbaum</td>\n      <td>In these trying times, Jackie Mason is the Voi...</td>\n      <td>0</td>\n    </tr>\n    <tr>\n      <th>6</th>\n      <td>6</td>\n      <td>Life: Life Of Luxury: Elton John’s 6 Favorite ...</td>\n      <td>NaN</td>\n      <td>Ever wonder how Britain’s most iconic pop pian...</td>\n      <td>1</td>\n    </tr>\n    <tr>\n      <th>7</th>\n      <td>7</td>\n      <td>Benoît Hamon Wins French Socialist Party’s Pre...</td>\n      <td>Alissa J. Rubin</td>\n      <td>PARIS  —   France chose an idealistic, traditi...</td>\n      <td>0</td>\n    </tr>\n    <tr>\n      <th>8</th>\n      <td>8</td>\n      <td>Excerpts From a Draft Script for Donald Trump’...</td>\n      <td>NaN</td>\n      <td>Donald J. Trump is scheduled to make a highly ...</td>\n      <td>0</td>\n    </tr>\n    <tr>\n      <th>9</th>\n      <td>9</td>\n      <td>A Back-Channel Plan for Ukraine and Russia, Co...</td>\n      <td>Megan Twohey and Scott Shane</td>\n      <td>A week before Michael T. Flynn resigned as nat...</td>\n      <td>0</td>\n    </tr>\n  </tbody>\n</table>\n</div>"
     },
     "execution_count": 5,
     "metadata": {},
     "output_type": "execute_result"
    }
   ],
   "source": [
    "df.head(10)"
   ],
   "metadata": {
    "collapsed": false,
    "pycharm": {
     "name": "#%%\n"
    }
   }
  },
  {
   "cell_type": "code",
   "execution_count": 6,
   "outputs": [
    {
     "data": {
      "text/plain": "                                               title              author  \\\n0  House Dem Aide: We Didn’t Even See Comey’s Let...       Darrell Lucus   \n1  FLYNN: Hillary Clinton, Big Woman on Campus - ...     Daniel J. Flynn   \n2                  Why the Truth Might Get You Fired  Consortiumnews.com   \n3  15 Civilians Killed In Single US Airstrike Hav...     Jessica Purkiss   \n4  Iranian woman jailed for fictional unpublished...      Howard Portnoy   \n\n                                                text  label  \n0  House Dem Aide: We Didn’t Even See Comey’s Let...      1  \n1  Ever get the feeling your life circles the rou...      0  \n2  Why the Truth Might Get You Fired October 29, ...      1  \n3  Videos 15 Civilians Killed In Single US Airstr...      1  \n4  Print \\nAn Iranian woman has been sentenced to...      1  ",
      "text/html": "<div>\n<style scoped>\n    .dataframe tbody tr th:only-of-type {\n        vertical-align: middle;\n    }\n\n    .dataframe tbody tr th {\n        vertical-align: top;\n    }\n\n    .dataframe thead th {\n        text-align: right;\n    }\n</style>\n<table border=\"1\" class=\"dataframe\">\n  <thead>\n    <tr style=\"text-align: right;\">\n      <th></th>\n      <th>title</th>\n      <th>author</th>\n      <th>text</th>\n      <th>label</th>\n    </tr>\n  </thead>\n  <tbody>\n    <tr>\n      <th>0</th>\n      <td>House Dem Aide: We Didn’t Even See Comey’s Let...</td>\n      <td>Darrell Lucus</td>\n      <td>House Dem Aide: We Didn’t Even See Comey’s Let...</td>\n      <td>1</td>\n    </tr>\n    <tr>\n      <th>1</th>\n      <td>FLYNN: Hillary Clinton, Big Woman on Campus - ...</td>\n      <td>Daniel J. Flynn</td>\n      <td>Ever get the feeling your life circles the rou...</td>\n      <td>0</td>\n    </tr>\n    <tr>\n      <th>2</th>\n      <td>Why the Truth Might Get You Fired</td>\n      <td>Consortiumnews.com</td>\n      <td>Why the Truth Might Get You Fired October 29, ...</td>\n      <td>1</td>\n    </tr>\n    <tr>\n      <th>3</th>\n      <td>15 Civilians Killed In Single US Airstrike Hav...</td>\n      <td>Jessica Purkiss</td>\n      <td>Videos 15 Civilians Killed In Single US Airstr...</td>\n      <td>1</td>\n    </tr>\n    <tr>\n      <th>4</th>\n      <td>Iranian woman jailed for fictional unpublished...</td>\n      <td>Howard Portnoy</td>\n      <td>Print \\nAn Iranian woman has been sentenced to...</td>\n      <td>1</td>\n    </tr>\n  </tbody>\n</table>\n</div>"
     },
     "execution_count": 6,
     "metadata": {},
     "output_type": "execute_result"
    }
   ],
   "source": [
    "df.drop(['id'], axis=1, inplace=True)\n",
    "df.head(5)"
   ],
   "metadata": {
    "collapsed": false,
    "pycharm": {
     "name": "#%%\n"
    }
   }
  },
  {
   "cell_type": "code",
   "execution_count": 121,
   "outputs": [
    {
     "data": {
      "text/plain": "<seaborn.axisgrid.FacetGrid at 0x2ceaf20d0>"
     },
     "execution_count": 121,
     "metadata": {},
     "output_type": "execute_result"
    },
    {
     "data": {
      "text/plain": "<Figure size 360x360 with 1 Axes>",
      "image/png": "[encoded data removed]"
     },
     "metadata": {
      "needs_background": "light"
     },
     "output_type": "display_data"
    }
   ],
   "source": [
    "sns.catplot(x='label',data=df,kind='count')"
   ],
   "metadata": {
    "collapsed": false,
    "pycharm": {
     "name": "#%%\n"
    }
   }
  },
  {
   "cell_type": "code",
   "execution_count": 8,
   "outputs": [
    {
     "data": {
      "text/plain": "   label                                            content\n0      1  Darrell Lucus House Dem Aide: We Didn’t Even S...\n1      0  Daniel J. Flynn FLYNN: Hillary Clinton, Big Wo...\n2      1  Consortiumnews.com Why the Truth Might Get You...\n3      1  Jessica Purkiss 15 Civilians Killed In Single ...\n4      1  Howard Portnoy Iranian woman jailed for fictio...\n5      0  Daniel Nussbaum Jackie Mason: Hollywood Would ...\n6      1                                                NaN\n7      0  Alissa J. Rubin Benoît Hamon Wins French Socia...\n8      0                                                NaN\n9      0  Megan Twohey and Scott Shane A Back-Channel Pl...",
      "text/html": "<div>\n<style scoped>\n    .dataframe tbody tr th:only-of-type {\n        vertical-align: middle;\n    }\n\n    .dataframe tbody tr th {\n        vertical-align: top;\n    }\n\n    .dataframe thead th {\n        text-align: right;\n    }\n</style>\n<table border=\"1\" class=\"dataframe\">\n  <thead>\n    <tr style=\"text-align: right;\">\n      <th></th>\n      <th>label</th>\n      <th>content</th>\n    </tr>\n  </thead>\n  <tbody>\n    <tr>\n      <th>0</th>\n      <td>1</td>\n      <td>Darrell Lucus House Dem Aide: We Didn’t Even S...</td>\n    </tr>\n    <tr>\n      <th>1</th>\n      <td>0</td>\n      <td>Daniel J. Flynn FLYNN: Hillary Clinton, Big Wo...</td>\n    </tr>\n    <tr>\n      <th>2</th>\n      <td>1</td>\n      <td>Consortiumnews.com Why the Truth Might Get You...</td>\n    </tr>\n    <tr>\n      <th>3</th>\n      <td>1</td>\n      <td>Jessica Purkiss 15 Civilians Killed In Single ...</td>\n    </tr>\n    <tr>\n      <th>4</th>\n      <td>1</td>\n      <td>Howard Portnoy Iranian woman jailed for fictio...</td>\n    </tr>\n    <tr>\n      <th>5</th>\n      <td>0</td>\n      <td>Daniel Nussbaum Jackie Mason: Hollywood Would ...</td>\n    </tr>\n    <tr>\n      <th>6</th>\n      <td>1</td>\n      <td>NaN</td>\n    </tr>\n    <tr>\n      <th>7</th>\n      <td>0</td>\n      <td>Alissa J. Rubin Benoît Hamon Wins French Socia...</td>\n    </tr>\n    <tr>\n      <th>8</th>\n      <td>0</td>\n      <td>NaN</td>\n    </tr>\n    <tr>\n      <th>9</th>\n      <td>0</td>\n      <td>Megan Twohey and Scott Shane A Back-Channel Pl...</td>\n    </tr>\n  </tbody>\n</table>\n</div>"
     },
     "execution_count": 8,
     "metadata": {},
     "output_type": "execute_result"
    }
   ],
   "source": [
    "df['content'] = df['author']+' '+df['title']+' '+df['text']\n",
    "df.drop(['author','title','text'], axis=1, inplace=True)\n",
    "df.head(10)"
   ],
   "metadata": {
    "collapsed": false,
    "pycharm": {
     "name": "#%%\n"
    }
   }
  },
  {
   "cell_type": "code",
   "execution_count": 9,
   "outputs": [
    {
     "data": {
      "text/plain": "(20800, 2)"
     },
     "execution_count": 9,
     "metadata": {},
     "output_type": "execute_result"
    }
   ],
   "source": [
    "df.shape"
   ],
   "metadata": {
    "collapsed": false,
    "pycharm": {
     "name": "#%%\n"
    }
   }
  },
  {
   "cell_type": "code",
   "execution_count": 10,
   "outputs": [
    {
     "data": {
      "text/plain": "label         0\ncontent    2663\ndtype: int64"
     },
     "execution_count": 10,
     "metadata": {},
     "output_type": "execute_result"
    }
   ],
   "source": [
    "df.isnull().sum()"
   ],
   "metadata": {
    "collapsed": false,
    "pycharm": {
     "name": "#%%\n"
    }
   }
  },
  {
   "cell_type": "code",
   "execution_count": 11,
   "outputs": [
    {
     "data": {
      "text/plain": "1    10413\n0    10387\nName: label, dtype: int64"
     },
     "execution_count": 11,
     "metadata": {},
     "output_type": "execute_result"
    }
   ],
   "source": [
    "df['label'].value_counts()"
   ],
   "metadata": {
    "collapsed": false,
    "pycharm": {
     "name": "#%%\n"
    }
   }
  },
  {
   "cell_type": "code",
   "execution_count": 12,
   "outputs": [
    {
     "data": {
      "text/plain": "(18137, 2)"
     },
     "execution_count": 12,
     "metadata": {},
     "output_type": "execute_result"
    }
   ],
   "source": [
    "df.dropna(axis=0, inplace = True)\n",
    "df.shape"
   ],
   "metadata": {
    "collapsed": false,
    "pycharm": {
     "name": "#%%\n"
    }
   }
  },
  {
   "cell_type": "code",
   "execution_count": 13,
   "outputs": [],
   "source": [
    "def process_text(text):\n",
    "    nopunc = [char for char in text if char not in string.punctuation]\n",
    "    nopunc = ''.join(nopunc)\n",
    "\n",
    "    clean_words = [word for word in nopunc.split() if word.lower() not in stopwords.words('english')]\n",
    "\n",
    "    return clean_words"
   ],
   "metadata": {
    "collapsed": false,
    "pycharm": {
     "name": "#%%\n"
    }
   }
  },
  {
   "cell_type": "code",
   "execution_count": 14,
   "outputs": [
    {
     "data": {
      "text/plain": "0        [Darrell, Lucus, House, Dem, Aide, Didn’t, Eve...\n1        [Daniel, J, Flynn, FLYNN, Hillary, Clinton, Bi...\n2        [Consortiumnewscom, Truth, Might, Get, Fired, ...\n3        [Jessica, Purkiss, 15, Civilians, Killed, Sing...\n4        [Howard, Portnoy, Iranian, woman, jailed, fict...\n                               ...                        \n20795    [Jerome, Hudson, Rapper, TI, Trump, ’Poster, C...\n20796    [Benjamin, Hoffman, NFL, Playoffs, Schedule, M...\n20797    [Michael, J, de, la, Merced, Rachel, Abrams, M...\n20798    [Alex, Ansary, NATO, Russia, Hold, Parallel, E...\n20799    [David, Swanson, Keeps, F35, Alive, David, Swa...\nName: content, Length: 18137, dtype: object"
     },
     "execution_count": 14,
     "metadata": {},
     "output_type": "execute_result"
    }
   ],
   "source": [
    "df['content'].apply(process_text)"
   ],
   "metadata": {
    "collapsed": false,
    "pycharm": {
     "name": "#%%\n"
    }
   }
  },
  {
   "cell_type": "code",
   "execution_count": 79,
   "outputs": [],
   "source": [
    "x_train, x_test, y_train, y_test = train_test_split(df['content'], df['label'],\n",
    "                                                    test_size=0.2, random_state=123456)\n",
    "vectorizer = CountVectorizer()\n",
    "vec_train = vectorizer.fit_transform(x_train)\n",
    "vec_test = vectorizer.transform(x_test)"
   ],
   "metadata": {
    "collapsed": false,
    "pycharm": {
     "name": "#%%\n"
    }
   }
  },
  {
   "cell_type": "code",
   "execution_count": 108,
   "outputs": [
    {
     "data": {
      "text/plain": "(14509, 138597)"
     },
     "execution_count": 108,
     "metadata": {},
     "output_type": "execute_result"
    }
   ],
   "source": [
    "vec_train.shape"
   ],
   "metadata": {
    "collapsed": false,
    "pycharm": {
     "name": "#%%\n"
    }
   }
  },
  {
   "cell_type": "code",
   "execution_count": null,
   "outputs": [],
   "source": [
    "x_train.shape, x_test.shape, y_train.shape, y_test.shape"
   ],
   "metadata": {
    "collapsed": false,
    "pycharm": {
     "name": "#%%\n"
    }
   }
  },
  {
   "cell_type": "code",
   "execution_count": 45,
   "outputs": [],
   "source": [
    "model_RF = RandomForestClassifier()"
   ],
   "metadata": {
    "collapsed": false,
    "pycharm": {
     "name": "#%%\n"
    }
   }
  },
  {
   "cell_type": "code",
   "execution_count": 81,
   "outputs": [
    {
     "data": {
      "text/plain": "RandomForestClassifier()",
      "text/html": "<style>#sk-container-id-4 {color: black;background-color: white;}#sk-container-id-4 pre{padding: 0;}#sk-container-id-4 div.sk-toggleable {background-color: white;}#sk-container-id-4 label.sk-toggleable__label {cursor: pointer;display: block;width: 100%;margin-bottom: 0;padding: 0.3em;box-sizing: border-box;text-align: center;}#sk-container-id-4 label.sk-toggleable__label-arrow:before {content: \"▸\";float: left;margin-right: 0.25em;color: #696969;}#sk-container-id-4 label.sk-toggleable__label-arrow:hover:before {color: black;}#sk-container-id-4 div.sk-estimator:hover label.sk-toggleable__label-arrow:before {color: black;}#sk-container-id-4 div.sk-toggleable__content {max-height: 0;max-width: 0;overflow: hidden;text-align: left;background-color: #f0f8ff;}#sk-container-id-4 div.sk-toggleable__content pre {margin: 0.2em;color: black;border-radius: 0.25em;background-color: #f0f8ff;}#sk-container-id-4 input.sk-toggleable__control:checked~div.sk-toggleable__content {max-height: 200px;max-width: 100%;overflow: auto;}#sk-container-id-4 input.sk-toggleable__control:checked~label.sk-toggleable__label-arrow:before {content: \"▾\";}#sk-container-id-4 div.sk-estimator input.sk-toggleable__control:checked~label.sk-toggleable__label {background-color: #d4ebff;}#sk-container-id-4 div.sk-label input.sk-toggleable__control:checked~label.sk-toggleable__label {background-color: #d4ebff;}#sk-container-id-4 input.sk-hidden--visually {border: 0;clip: rect(1px 1px 1px 1px);clip: rect(1px, 1px, 1px, 1px);height: 1px;margin: -1px;overflow: hidden;padding: 0;position: absolute;width: 1px;}#sk-container-id-4 div.sk-estimator {font-family: monospace;background-color: #f0f8ff;border: 1px dotted black;border-radius: 0.25em;box-sizing: border-box;margin-bottom: 0.5em;}#sk-container-id-4 div.sk-estimator:hover {background-color: #d4ebff;}#sk-container-id-4 div.sk-parallel-item::after {content: \"\";width: 100%;border-bottom: 1px solid gray;flex-grow: 1;}#sk-container-id-4 div.sk-label:hover label.sk-toggleable__label {background-color: #d4ebff;}#sk-container-id-4 div.sk-serial::before {content: \"\";position: absolute;border-left: 1px solid gray;box-sizing: border-box;top: 0;bottom: 0;left: 50%;z-index: 0;}#sk-container-id-4 div.sk-serial {display: flex;flex-direction: column;align-items: center;background-color: white;padding-right: 0.2em;padding-left: 0.2em;position: relative;}#sk-container-id-4 div.sk-item {position: relative;z-index: 1;}#sk-container-id-4 div.sk-parallel {display: flex;align-items: stretch;justify-content: center;background-color: white;position: relative;}#sk-container-id-4 div.sk-item::before, #sk-container-id-4 div.sk-parallel-item::before {content: \"\";position: absolute;border-left: 1px solid gray;box-sizing: border-box;top: 0;bottom: 0;left: 50%;z-index: -1;}#sk-container-id-4 div.sk-parallel-item {display: flex;flex-direction: column;z-index: 1;position: relative;background-color: white;}#sk-container-id-4 div.sk-parallel-item:first-child::after {align-self: flex-end;width: 50%;}#sk-container-id-4 div.sk-parallel-item:last-child::after {align-self: flex-start;width: 50%;}#sk-container-id-4 div.sk-parallel-item:only-child::after {width: 0;}#sk-container-id-4 div.sk-dashed-wrapped {border: 1px dashed gray;margin: 0 0.4em 0.5em 0.4em;box-sizing: border-box;padding-bottom: 0.4em;background-color: white;}#sk-container-id-4 div.sk-label label {font-family: monospace;font-weight: bold;display: inline-block;line-height: 1.2em;}#sk-container-id-4 div.sk-label-container {text-align: center;}#sk-container-id-4 div.sk-container {/* jupyter's `normalize.less` sets `[hidden] { display: none; }` but bootstrap.min.css set `[hidden] { display: none !important; }` so we also need the `!important` here to be able to override the default hidden behavior on the sphinx rendered scikit-learn.org. See: https://github.com/scikit-learn/scikit-learn/issues/21755 */display: inline-block !important;position: relative;}#sk-container-id-4 div.sk-text-repr-fallback {display: none;}</style><div id=\"sk-container-id-4\" class=\"sk-top-container\"><div class=\"sk-text-repr-fallback\"><pre>RandomForestClassifier()</pre><b>In a Jupyter environment, please rerun this cell to show the HTML representation or trust the notebook. <br />On GitHub, the HTML representation is unable to render, please try loading this page with nbviewer.org.</b></div><div class=\"sk-container\" hidden><div class=\"sk-item\"><div class=\"sk-estimator sk-toggleable\"><input class=\"sk-toggleable__control sk-hidden--visually\" id=\"sk-estimator-id-4\" type=\"checkbox\" checked><label for=\"sk-estimator-id-4\" class=\"sk-toggleable__label sk-toggleable__label-arrow\">RandomForestClassifier</label><div class=\"sk-toggleable__content\"><pre>RandomForestClassifier()</pre></div></div></div></div></div>"
     },
     "execution_count": 81,
     "metadata": {},
     "output_type": "execute_result"
    }
   ],
   "source": [
    "model_RF.fit(vec_train, y_train)"
   ],
   "metadata": {
    "collapsed": false,
    "pycharm": {
     "name": "#%%\n"
    }
   }
  },
  {
   "cell_type": "code",
   "execution_count": 84,
   "outputs": [],
   "source": [
    "y_pred_RF = model_RF.predict(vec_test)"
   ],
   "metadata": {
    "collapsed": false,
    "pycharm": {
     "name": "#%%\n"
    }
   }
  },
  {
   "cell_type": "code",
   "execution_count": 85,
   "outputs": [
    {
     "name": "stdout",
     "output_type": "stream",
     "text": [
      "RF:  92.64057331863286\n"
     ]
    }
   ],
   "source": [
    "print(\"RF: \", accuracy_score(y_test,y_pred_RF)*100)"
   ],
   "metadata": {
    "collapsed": false,
    "pycharm": {
     "name": "#%%\n"
    }
   }
  },
  {
   "cell_type": "code",
   "execution_count": 86,
   "outputs": [],
   "source": [
    "def evaluate(model, x_test, y_test):\n",
    "  pred = model.predict(x_test)\n",
    "  accuracy = accuracy_score(y_test, pred)\n",
    "  precision = precision_score(y_test, pred)\n",
    "  recall = recall_score(y_test, pred)\n",
    "  f1 = f1_score(y_test, pred)\n",
    "  tn, fp, fn, tp = confusion_matrix(y_test, pred).ravel()\n",
    "  print(\"TN: {}   FP: {}\\nFN: {}   TP: {}\".format(tn, fp, fn, tp))\n",
    "  print(classification_report(y_test, pred))\n",
    "  print('Accuracy: %f' % accuracy)\n",
    "  print('Precision: %f' % precision)\n",
    "  print('Recall: %f' % recall)\n",
    "  print('F1 score: %f' % f1)"
   ],
   "metadata": {
    "collapsed": false,
    "pycharm": {
     "name": "#%%\n"
    }
   }
  },
  {
   "cell_type": "code",
   "execution_count": 88,
   "outputs": [
    {
     "name": "stdout",
     "output_type": "stream",
     "text": [
      "TN: 2008   FP: 31\n",
      "FN: 236   TP: 1353\n",
      "              precision    recall  f1-score   support\n",
      "\n",
      "           0       0.89      0.98      0.94      2039\n",
      "           1       0.98      0.85      0.91      1589\n",
      "\n",
      "    accuracy                           0.93      3628\n",
      "   macro avg       0.94      0.92      0.92      3628\n",
      "weighted avg       0.93      0.93      0.93      3628\n",
      "\n",
      "Accuracy: 0.926406\n",
      "Precision: 0.977601\n",
      "Recall: 0.851479\n",
      "F1 score: 0.910192\n"
     ]
    }
   ],
   "source": [
    "evaluate(model_RF, vec_test, y_test)"
   ],
   "metadata": {
    "collapsed": false,
    "pycharm": {
     "name": "#%%\n"
    }
   }
  },
  {
   "cell_type": "code",
   "execution_count": 89,
   "outputs": [
    {
     "name": "stdout",
     "output_type": "stream",
     "text": [
      "Train Accuracy - : 1.000\n",
      "Test Accuracy - : 0.926\n"
     ]
    }
   ],
   "source": [
    "print (f'Train Accuracy - : {model_RF.score(vec_train,y_train):.3f}')\n",
    "print (f'Test Accuracy - : {model_RF.score(vec_test,y_test):.3f}')"
   ],
   "metadata": {
    "collapsed": false,
    "pycharm": {
     "name": "#%%\n"
    }
   }
  },
  {
   "cell_type": "code",
   "execution_count": 91,
   "outputs": [],
   "source": [
    "model_xgboost = xgboost.XGBClassifier()"
   ],
   "metadata": {
    "collapsed": false,
    "pycharm": {
     "name": "#%%\n"
    }
   }
  },
  {
   "cell_type": "code",
   "execution_count": 93,
   "outputs": [
    {
     "data": {
      "text/plain": "XGBClassifier(base_score=0.5, booster='gbtree', callbacks=None,\n              colsample_bylevel=1, colsample_bynode=1, colsample_bytree=1,\n              early_stopping_rounds=None, enable_categorical=False,\n              eval_metric=None, gamma=0, gpu_id=-1, grow_policy='depthwise',\n              importance_type=None, interaction_constraints='',\n              learning_rate=0.300000012, max_bin=256, max_cat_to_onehot=4,\n              max_delta_step=0, max_depth=6, max_leaves=0, min_child_weight=1,\n              missing=nan, monotone_constraints='()', n_estimators=100,\n              n_jobs=0, num_parallel_tree=1, predictor='auto', random_state=0,\n              reg_alpha=0, reg_lambda=1, ...)",
      "text/html": "<style>#sk-container-id-5 {color: black;background-color: white;}#sk-container-id-5 pre{padding: 0;}#sk-container-id-5 div.sk-toggleable {background-color: white;}#sk-container-id-5 label.sk-toggleable__label {cursor: pointer;display: block;width: 100%;margin-bottom: 0;padding: 0.3em;box-sizing: border-box;text-align: center;}#sk-container-id-5 label.sk-toggleable__label-arrow:before {content: \"▸\";float: left;margin-right: 0.25em;color: #696969;}#sk-container-id-5 label.sk-toggleable__label-arrow:hover:before {color: black;}#sk-container-id-5 div.sk-estimator:hover label.sk-toggleable__label-arrow:before {color: black;}#sk-container-id-5 div.sk-toggleable__content {max-height: 0;max-width: 0;overflow: hidden;text-align: left;background-color: #f0f8ff;}#sk-container-id-5 div.sk-toggleable__content pre {margin: 0.2em;color: black;border-radius: 0.25em;background-color: #f0f8ff;}#sk-container-id-5 input.sk-toggleable__control:checked~div.sk-toggleable__content {max-height: 200px;max-width: 100%;overflow: auto;}#sk-container-id-5 input.sk-toggleable__control:checked~label.sk-toggleable__label-arrow:before {content: \"▾\";}#sk-container-id-5 div.sk-estimator input.sk-toggleable__control:checked~label.sk-toggleable__label {background-color: #d4ebff;}#sk-container-id-5 div.sk-label input.sk-toggleable__control:checked~label.sk-toggleable__label {background-color: #d4ebff;}#sk-container-id-5 input.sk-hidden--visually {border: 0;clip: rect(1px 1px 1px 1px);clip: rect(1px, 1px, 1px, 1px);height: 1px;margin: -1px;overflow: hidden;padding: 0;position: absolute;width: 1px;}#sk-container-id-5 div.sk-estimator {font-family: monospace;background-color: #f0f8ff;border: 1px dotted black;border-radius: 0.25em;box-sizing: border-box;margin-bottom: 0.5em;}#sk-container-id-5 div.sk-estimator:hover {background-color: #d4ebff;}#sk-container-id-5 div.sk-parallel-item::after {content: \"\";width: 100%;border-bottom: 1px solid gray;flex-grow: 1;}#sk-container-id-5 div.sk-label:hover label.sk-toggleable__label {background-color: #d4ebff;}#sk-container-id-5 div.sk-serial::before {content: \"\";position: absolute;border-left: 1px solid gray;box-sizing: border-box;top: 0;bottom: 0;left: 50%;z-index: 0;}#sk-container-id-5 div.sk-serial {display: flex;flex-direction: column;align-items: center;background-color: white;padding-right: 0.2em;padding-left: 0.2em;position: relative;}#sk-container-id-5 div.sk-item {position: relative;z-index: 1;}#sk-container-id-5 div.sk-parallel {display: flex;align-items: stretch;justify-content: center;background-color: white;position: relative;}#sk-container-id-5 div.sk-item::before, #sk-container-id-5 div.sk-parallel-item::before {content: \"\";position: absolute;border-left: 1px solid gray;box-sizing: border-box;top: 0;bottom: 0;left: 50%;z-index: -1;}#sk-container-id-5 div.sk-parallel-item {display: flex;flex-direction: column;z-index: 1;position: relative;background-color: white;}#sk-container-id-5 div.sk-parallel-item:first-child::after {align-self: flex-end;width: 50%;}#sk-container-id-5 div.sk-parallel-item:last-child::after {align-self: flex-start;width: 50%;}#sk-container-id-5 div.sk-parallel-item:only-child::after {width: 0;}#sk-container-id-5 div.sk-dashed-wrapped {border: 1px dashed gray;margin: 0 0.4em 0.5em 0.4em;box-sizing: border-box;padding-bottom: 0.4em;background-color: white;}#sk-container-id-5 div.sk-label label {font-family: monospace;font-weight: bold;display: inline-block;line-height: 1.2em;}#sk-container-id-5 div.sk-label-container {text-align: center;}#sk-container-id-5 div.sk-container {/* jupyter's `normalize.less` sets `[hidden] { display: none; }` but bootstrap.min.css set `[hidden] { display: none !important; }` so we also need the `!important` here to be able to override the default hidden behavior on the sphinx rendered scikit-learn.org. See: https://github.com/scikit-learn/scikit-learn/issues/21755 */display: inline-block !important;position: relative;}#sk-container-id-5 div.sk-text-repr-fallback {display: none;}</style><div id=\"sk-container-id-5\" class=\"sk-top-container\"><div class=\"sk-text-repr-fallback\"><pre>XGBClassifier(base_score=0.5, booster=&#x27;gbtree&#x27;, callbacks=None,\n              colsample_bylevel=1, colsample_bynode=1, colsample_bytree=1,\n              early_stopping_rounds=None, enable_categorical=False,\n              eval_metric=None, gamma=0, gpu_id=-1, grow_policy=&#x27;depthwise&#x27;,\n              importance_type=None, interaction_constraints=&#x27;&#x27;,\n              learning_rate=0.300000012, max_bin=256, max_cat_to_onehot=4,\n              max_delta_step=0, max_depth=6, max_leaves=0, min_child_weight=1,\n              missing=nan, monotone_constraints=&#x27;()&#x27;, n_estimators=100,\n              n_jobs=0, num_parallel_tree=1, predictor=&#x27;auto&#x27;, random_state=0,\n              reg_alpha=0, reg_lambda=1, ...)</pre><b>In a Jupyter environment, please rerun this cell to show the HTML representation or trust the notebook. <br />On GitHub, the HTML representation is unable to render, please try loading this page with nbviewer.org.</b></div><div class=\"sk-container\" hidden><div class=\"sk-item\"><div class=\"sk-estimator sk-toggleable\"><input class=\"sk-toggleable__control sk-hidden--visually\" id=\"sk-estimator-id-5\" type=\"checkbox\" checked><label for=\"sk-estimator-id-5\" class=\"sk-toggleable__label sk-toggleable__label-arrow\">XGBClassifier</label><div class=\"sk-toggleable__content\"><pre>XGBClassifier(base_score=0.5, booster=&#x27;gbtree&#x27;, callbacks=None,\n              colsample_bylevel=1, colsample_bynode=1, colsample_bytree=1,\n              early_stopping_rounds=None, enable_categorical=False,\n              eval_metric=None, gamma=0, gpu_id=-1, grow_policy=&#x27;depthwise&#x27;,\n              importance_type=None, interaction_constraints=&#x27;&#x27;,\n              learning_rate=0.300000012, max_bin=256, max_cat_to_onehot=4,\n              max_delta_step=0, max_depth=6, max_leaves=0, min_child_weight=1,\n              missing=nan, monotone_constraints=&#x27;()&#x27;, n_estimators=100,\n              n_jobs=0, num_parallel_tree=1, predictor=&#x27;auto&#x27;, random_state=0,\n              reg_alpha=0, reg_lambda=1, ...)</pre></div></div></div></div></div>"
     },
     "execution_count": 93,
     "metadata": {},
     "output_type": "execute_result"
    }
   ],
   "source": [
    "model_xgboost.fit(vec_train, y_train)"
   ],
   "metadata": {
    "collapsed": false,
    "pycharm": {
     "name": "#%%\n"
    }
   }
  },
  {
   "cell_type": "code",
   "execution_count": 94,
   "outputs": [
    {
     "data": {
      "text/plain": "XGBClassifier(base_score=0.5, booster='gbtree', callbacks=None,\n              colsample_bylevel=1, colsample_bynode=1, colsample_bytree=1,\n              early_stopping_rounds=None, enable_categorical=False,\n              eval_metric=None, gamma=0, gpu_id=-1, grow_policy='depthwise',\n              importance_type=None, interaction_constraints='',\n              learning_rate=0.300000012, max_bin=256, max_cat_to_onehot=4,\n              max_delta_step=0, max_depth=6, max_leaves=0, min_child_weight=1,\n              missing=nan, monotone_constraints='()', n_estimators=100,\n              n_jobs=0, num_parallel_tree=1, predictor='auto', random_state=0,\n              reg_alpha=0, reg_lambda=1, ...)",
      "text/html": "<style>#sk-container-id-6 {color: black;background-color: white;}#sk-container-id-6 pre{padding: 0;}#sk-container-id-6 div.sk-toggleable {background-color: white;}#sk-container-id-6 label.sk-toggleable__label {cursor: pointer;display: block;width: 100%;margin-bottom: 0;padding: 0.3em;box-sizing: border-box;text-align: center;}#sk-container-id-6 label.sk-toggleable__label-arrow:before {content: \"▸\";float: left;margin-right: 0.25em;color: #696969;}#sk-container-id-6 label.sk-toggleable__label-arrow:hover:before {color: black;}#sk-container-id-6 div.sk-estimator:hover label.sk-toggleable__label-arrow:before {color: black;}#sk-container-id-6 div.sk-toggleable__content {max-height: 0;max-width: 0;overflow: hidden;text-align: left;background-color: #f0f8ff;}#sk-container-id-6 div.sk-toggleable__content pre {margin: 0.2em;color: black;border-radius: 0.25em;background-color: #f0f8ff;}#sk-container-id-6 input.sk-toggleable__control:checked~div.sk-toggleable__content {max-height: 200px;max-width: 100%;overflow: auto;}#sk-container-id-6 input.sk-toggleable__control:checked~label.sk-toggleable__label-arrow:before {content: \"▾\";}#sk-container-id-6 div.sk-estimator input.sk-toggleable__control:checked~label.sk-toggleable__label {background-color: #d4ebff;}#sk-container-id-6 div.sk-label input.sk-toggleable__control:checked~label.sk-toggleable__label {background-color: #d4ebff;}#sk-container-id-6 input.sk-hidden--visually {border: 0;clip: rect(1px 1px 1px 1px);clip: rect(1px, 1px, 1px, 1px);height: 1px;margin: -1px;overflow: hidden;padding: 0;position: absolute;width: 1px;}#sk-container-id-6 div.sk-estimator {font-family: monospace;background-color: #f0f8ff;border: 1px dotted black;border-radius: 0.25em;box-sizing: border-box;margin-bottom: 0.5em;}#sk-container-id-6 div.sk-estimator:hover {background-color: #d4ebff;}#sk-container-id-6 div.sk-parallel-item::after {content: \"\";width: 100%;border-bottom: 1px solid gray;flex-grow: 1;}#sk-container-id-6 div.sk-label:hover label.sk-toggleable__label {background-color: #d4ebff;}#sk-container-id-6 div.sk-serial::before {content: \"\";position: absolute;border-left: 1px solid gray;box-sizing: border-box;top: 0;bottom: 0;left: 50%;z-index: 0;}#sk-container-id-6 div.sk-serial {display: flex;flex-direction: column;align-items: center;background-color: white;padding-right: 0.2em;padding-left: 0.2em;position: relative;}#sk-container-id-6 div.sk-item {position: relative;z-index: 1;}#sk-container-id-6 div.sk-parallel {display: flex;align-items: stretch;justify-content: center;background-color: white;position: relative;}#sk-container-id-6 div.sk-item::before, #sk-container-id-6 div.sk-parallel-item::before {content: \"\";position: absolute;border-left: 1px solid gray;box-sizing: border-box;top: 0;bottom: 0;left: 50%;z-index: -1;}#sk-container-id-6 div.sk-parallel-item {display: flex;flex-direction: column;z-index: 1;position: relative;background-color: white;}#sk-container-id-6 div.sk-parallel-item:first-child::after {align-self: flex-end;width: 50%;}#sk-container-id-6 div.sk-parallel-item:last-child::after {align-self: flex-start;width: 50%;}#sk-container-id-6 div.sk-parallel-item:only-child::after {width: 0;}#sk-container-id-6 div.sk-dashed-wrapped {border: 1px dashed gray;margin: 0 0.4em 0.5em 0.4em;box-sizing: border-box;padding-bottom: 0.4em;background-color: white;}#sk-container-id-6 div.sk-label label {font-family: monospace;font-weight: bold;display: inline-block;line-height: 1.2em;}#sk-container-id-6 div.sk-label-container {text-align: center;}#sk-container-id-6 div.sk-container {/* jupyter's `normalize.less` sets `[hidden] { display: none; }` but bootstrap.min.css set `[hidden] { display: none !important; }` so we also need the `!important` here to be able to override the default hidden behavior on the sphinx rendered scikit-learn.org. See: https://github.com/scikit-learn/scikit-learn/issues/21755 */display: inline-block !important;position: relative;}#sk-container-id-6 div.sk-text-repr-fallback {display: none;}</style><div id=\"sk-container-id-6\" class=\"sk-top-container\"><div class=\"sk-text-repr-fallback\"><pre>XGBClassifier(base_score=0.5, booster=&#x27;gbtree&#x27;, callbacks=None,\n              colsample_bylevel=1, colsample_bynode=1, colsample_bytree=1,\n              early_stopping_rounds=None, enable_categorical=False,\n              eval_metric=None, gamma=0, gpu_id=-1, grow_policy=&#x27;depthwise&#x27;,\n              importance_type=None, interaction_constraints=&#x27;&#x27;,\n              learning_rate=0.300000012, max_bin=256, max_cat_to_onehot=4,\n              max_delta_step=0, max_depth=6, max_leaves=0, min_child_weight=1,\n              missing=nan, monotone_constraints=&#x27;()&#x27;, n_estimators=100,\n              n_jobs=0, num_parallel_tree=1, predictor=&#x27;auto&#x27;, random_state=0,\n              reg_alpha=0, reg_lambda=1, ...)</pre><b>In a Jupyter environment, please rerun this cell to show the HTML representation or trust the notebook. <br />On GitHub, the HTML representation is unable to render, please try loading this page with nbviewer.org.</b></div><div class=\"sk-container\" hidden><div class=\"sk-item\"><div class=\"sk-estimator sk-toggleable\"><input class=\"sk-toggleable__control sk-hidden--visually\" id=\"sk-estimator-id-6\" type=\"checkbox\" checked><label for=\"sk-estimator-id-6\" class=\"sk-toggleable__label sk-toggleable__label-arrow\">XGBClassifier</label><div class=\"sk-toggleable__content\"><pre>XGBClassifier(base_score=0.5, booster=&#x27;gbtree&#x27;, callbacks=None,\n              colsample_bylevel=1, colsample_bynode=1, colsample_bytree=1,\n              early_stopping_rounds=None, enable_categorical=False,\n              eval_metric=None, gamma=0, gpu_id=-1, grow_policy=&#x27;depthwise&#x27;,\n              importance_type=None, interaction_constraints=&#x27;&#x27;,\n              learning_rate=0.300000012, max_bin=256, max_cat_to_onehot=4,\n              max_delta_step=0, max_depth=6, max_leaves=0, min_child_weight=1,\n              missing=nan, monotone_constraints=&#x27;()&#x27;, n_estimators=100,\n              n_jobs=0, num_parallel_tree=1, predictor=&#x27;auto&#x27;, random_state=0,\n              reg_alpha=0, reg_lambda=1, ...)</pre></div></div></div></div></div>"
     },
     "execution_count": 94,
     "metadata": {},
     "output_type": "execute_result"
    }
   ],
   "source": [
    "model_xgboost.fit(vec_train, y_train)"
   ],
   "metadata": {
    "collapsed": false,
    "pycharm": {
     "name": "#%%\n"
    }
   }
  },
  {
   "cell_type": "code",
   "execution_count": 96,
   "outputs": [],
   "source": [
    "y_pred_xgboost = model_xgboost.predict(vec_test)"
   ],
   "metadata": {
    "collapsed": false,
    "pycharm": {
     "name": "#%%\n"
    }
   }
  },
  {
   "cell_type": "code",
   "execution_count": 97,
   "outputs": [
    {
     "name": "stdout",
     "output_type": "stream",
     "text": [
      "XGBM:  98.59426681367145\n"
     ]
    }
   ],
   "source": [
    "print(\"XGBM: \", accuracy_score(y_test, y_pred_xgboost)*100)"
   ],
   "metadata": {
    "collapsed": false,
    "pycharm": {
     "name": "#%%\n"
    }
   }
  },
  {
   "cell_type": "code",
   "execution_count": 98,
   "outputs": [
    {
     "name": "stdout",
     "output_type": "stream",
     "text": [
      "TN: 2011   FP: 28\n",
      "FN: 23   TP: 1566\n",
      "              precision    recall  f1-score   support\n",
      "\n",
      "           0       0.99      0.99      0.99      2039\n",
      "           1       0.98      0.99      0.98      1589\n",
      "\n",
      "    accuracy                           0.99      3628\n",
      "   macro avg       0.99      0.99      0.99      3628\n",
      "weighted avg       0.99      0.99      0.99      3628\n",
      "\n",
      "Accuracy: 0.985943\n",
      "Precision: 0.982434\n",
      "Recall: 0.985525\n",
      "F1 score: 0.983977\n"
     ]
    }
   ],
   "source": [
    "evaluate(model_xgboost, vec_test, y_test)"
   ],
   "metadata": {
    "collapsed": false,
    "pycharm": {
     "name": "#%%\n"
    }
   }
  },
  {
   "cell_type": "code",
   "execution_count": 99,
   "outputs": [
    {
     "name": "stdout",
     "output_type": "stream",
     "text": [
      "Train Accuracy - : 1.000\n",
      "Test Accuracy - : 0.986\n"
     ]
    }
   ],
   "source": [
    "print (f'Train Accuracy - : {model_xgboost.score(vec_train,y_train):.3f}')\n",
    "print (f'Test Accuracy - : {model_xgboost.score(vec_test,y_test):.3f}')"
   ],
   "metadata": {
    "collapsed": false,
    "pycharm": {
     "name": "#%%\n"
    }
   }
  },
  {
   "cell_type": "code",
   "execution_count": 118,
   "outputs": [
    {
     "data": {
      "text/plain": "<AxesSubplot:>"
     },
     "execution_count": 118,
     "metadata": {},
     "output_type": "execute_result"
    },
    {
     "data": {
      "text/plain": "<Figure size 432x432 with 2 Axes>",
      "image/png": "[encoded data removed]"
     },
     "metadata": {
      "needs_background": "light"
     },
     "output_type": "display_data"
    }
   ],
   "source": [
    "cm = confusion_matrix(list(y_test), y_pred_xgboost)\n",
    "plt.figure(figsize = (6, 6))\n",
    "sns.heatmap(cm, annot = True,fmt='g',cmap='viridis')"
   ],
   "metadata": {
    "collapsed": false,
    "pycharm": {
     "name": "#%%\n"
    }
   }
  },
  {
   "cell_type": "markdown",
   "source": [
    "Observations\n",
    "1589 Fake News have been Classified as Fake, while 2029 Real News have been classified as Real"
   ],
   "metadata": {
    "collapsed": false
   }
  },
  {
   "cell_type": "code",
   "execution_count": 100,
   "outputs": [],
   "source": [
    "model_catboost = catboost.CatBoostClassifier()"
   ],
   "metadata": {
    "collapsed": false,
    "pycharm": {
     "name": "#%%\n"
    }
   }
  },
  {
   "cell_type": "code",
   "execution_count": 101,
   "outputs": [
    {
     "name": "stdout",
     "output_type": "stream",
     "text": [
      "Learning rate set to 0.032281\n",
      "0:\tlearn: 0.6576715\ttotal: 331ms\tremaining: 5m 30s\n",
      "1:\tlearn: 0.6275820\ttotal: 707ms\tremaining: 5m 52s\n",
      "2:\tlearn: 0.5952338\ttotal: 932ms\tremaining: 5m 9s\n",
      "3:\tlearn: 0.5656809\ttotal: 1.14s\tremaining: 4m 43s\n",
      "4:\tlearn: 0.5340083\ttotal: 1.36s\tremaining: 4m 31s\n",
      "5:\tlearn: 0.5080633\ttotal: 1.55s\tremaining: 4m 17s\n",
      "6:\tlearn: 0.4801903\ttotal: 1.77s\tremaining: 4m 10s\n",
      "7:\tlearn: 0.4548891\ttotal: 2.01s\tremaining: 4m 8s\n",
      "8:\tlearn: 0.4317758\ttotal: 2.23s\tremaining: 4m 6s\n",
      "9:\tlearn: 0.4148427\ttotal: 2.46s\tremaining: 4m 3s\n",
      "10:\tlearn: 0.3957061\ttotal: 2.67s\tremaining: 3m 59s\n",
      "11:\tlearn: 0.3785117\ttotal: 2.87s\tremaining: 3m 56s\n",
      "12:\tlearn: 0.3657830\ttotal: 3.09s\tremaining: 3m 54s\n",
      "13:\tlearn: 0.3496862\ttotal: 3.35s\tremaining: 3m 55s\n",
      "14:\tlearn: 0.3325449\ttotal: 3.6s\tremaining: 3m 56s\n",
      "15:\tlearn: 0.3219889\ttotal: 3.94s\tremaining: 4m 2s\n",
      "16:\tlearn: 0.3098338\ttotal: 4.2s\tremaining: 4m 2s\n",
      "17:\tlearn: 0.3008403\ttotal: 4.43s\tremaining: 4m 1s\n",
      "18:\tlearn: 0.2908812\ttotal: 4.65s\tremaining: 4m\n",
      "19:\tlearn: 0.2827535\ttotal: 4.85s\tremaining: 3m 57s\n",
      "20:\tlearn: 0.2746165\ttotal: 5.04s\tremaining: 3m 55s\n",
      "21:\tlearn: 0.2675610\ttotal: 5.24s\tremaining: 3m 52s\n",
      "22:\tlearn: 0.2603442\ttotal: 5.46s\tremaining: 3m 51s\n",
      "23:\tlearn: 0.2521359\ttotal: 5.66s\tremaining: 3m 50s\n",
      "24:\tlearn: 0.2481979\ttotal: 5.84s\tremaining: 3m 47s\n",
      "25:\tlearn: 0.2430512\ttotal: 6.05s\tremaining: 3m 46s\n",
      "26:\tlearn: 0.2371269\ttotal: 6.25s\tremaining: 3m 45s\n",
      "27:\tlearn: 0.2326369\ttotal: 6.47s\tremaining: 3m 44s\n",
      "28:\tlearn: 0.2280645\ttotal: 6.72s\tremaining: 3m 45s\n",
      "29:\tlearn: 0.2238431\ttotal: 7.05s\tremaining: 3m 47s\n",
      "30:\tlearn: 0.2196106\ttotal: 7.32s\tremaining: 3m 48s\n",
      "31:\tlearn: 0.2157087\ttotal: 7.58s\tremaining: 3m 49s\n",
      "32:\tlearn: 0.2116455\ttotal: 7.8s\tremaining: 3m 48s\n",
      "33:\tlearn: 0.2086219\ttotal: 8.01s\tremaining: 3m 47s\n",
      "34:\tlearn: 0.2049570\ttotal: 8.22s\tremaining: 3m 46s\n",
      "35:\tlearn: 0.2023471\ttotal: 8.41s\tremaining: 3m 45s\n",
      "36:\tlearn: 0.1998998\ttotal: 8.6s\tremaining: 3m 43s\n",
      "37:\tlearn: 0.1964862\ttotal: 8.81s\tremaining: 3m 43s\n",
      "38:\tlearn: 0.1942437\ttotal: 9s\tremaining: 3m 41s\n",
      "39:\tlearn: 0.1918808\ttotal: 9.19s\tremaining: 3m 40s\n",
      "40:\tlearn: 0.1886729\ttotal: 9.44s\tremaining: 3m 40s\n",
      "41:\tlearn: 0.1868487\ttotal: 9.74s\tremaining: 3m 42s\n",
      "42:\tlearn: 0.1850848\ttotal: 10s\tremaining: 3m 42s\n",
      "43:\tlearn: 0.1828061\ttotal: 10.3s\tremaining: 3m 42s\n",
      "44:\tlearn: 0.1804993\ttotal: 10.5s\tremaining: 3m 42s\n",
      "45:\tlearn: 0.1784026\ttotal: 10.7s\tremaining: 3m 41s\n",
      "46:\tlearn: 0.1760291\ttotal: 10.9s\tremaining: 3m 40s\n",
      "47:\tlearn: 0.1742444\ttotal: 11.1s\tremaining: 3m 39s\n",
      "48:\tlearn: 0.1728971\ttotal: 11.3s\tremaining: 3m 38s\n",
      "49:\tlearn: 0.1713484\ttotal: 11.4s\tremaining: 3m 37s\n",
      "50:\tlearn: 0.1698899\ttotal: 11.6s\tremaining: 3m 36s\n",
      "51:\tlearn: 0.1686529\ttotal: 11.8s\tremaining: 3m 35s\n",
      "52:\tlearn: 0.1669489\ttotal: 12s\tremaining: 3m 35s\n",
      "53:\tlearn: 0.1655875\ttotal: 12.2s\tremaining: 3m 34s\n",
      "54:\tlearn: 0.1639666\ttotal: 12.4s\tremaining: 3m 33s\n",
      "55:\tlearn: 0.1624735\ttotal: 12.6s\tremaining: 3m 32s\n",
      "56:\tlearn: 0.1609504\ttotal: 12.8s\tremaining: 3m 32s\n",
      "57:\tlearn: 0.1598217\ttotal: 13s\tremaining: 3m 31s\n",
      "58:\tlearn: 0.1586800\ttotal: 13.2s\tremaining: 3m 30s\n",
      "59:\tlearn: 0.1576575\ttotal: 13.4s\tremaining: 3m 30s\n",
      "60:\tlearn: 0.1565857\ttotal: 13.8s\tremaining: 3m 32s\n",
      "61:\tlearn: 0.1553255\ttotal: 14s\tremaining: 3m 31s\n",
      "62:\tlearn: 0.1541506\ttotal: 14.2s\tremaining: 3m 31s\n",
      "63:\tlearn: 0.1530022\ttotal: 14.4s\tremaining: 3m 31s\n",
      "64:\tlearn: 0.1513498\ttotal: 14.6s\tremaining: 3m 30s\n",
      "65:\tlearn: 0.1502963\ttotal: 14.8s\tremaining: 3m 29s\n",
      "66:\tlearn: 0.1493730\ttotal: 15s\tremaining: 3m 29s\n",
      "67:\tlearn: 0.1484729\ttotal: 15.2s\tremaining: 3m 28s\n",
      "68:\tlearn: 0.1474493\ttotal: 15.4s\tremaining: 3m 27s\n",
      "69:\tlearn: 0.1462395\ttotal: 15.6s\tremaining: 3m 26s\n",
      "70:\tlearn: 0.1454051\ttotal: 15.8s\tremaining: 3m 26s\n",
      "71:\tlearn: 0.1447271\ttotal: 16s\tremaining: 3m 25s\n",
      "72:\tlearn: 0.1435933\ttotal: 16.1s\tremaining: 3m 24s\n",
      "73:\tlearn: 0.1426572\ttotal: 16.3s\tremaining: 3m 24s\n",
      "74:\tlearn: 0.1418326\ttotal: 16.5s\tremaining: 3m 23s\n",
      "75:\tlearn: 0.1411957\ttotal: 16.7s\tremaining: 3m 22s\n",
      "76:\tlearn: 0.1401833\ttotal: 16.9s\tremaining: 3m 22s\n",
      "77:\tlearn: 0.1395849\ttotal: 17.2s\tremaining: 3m 22s\n",
      "78:\tlearn: 0.1388711\ttotal: 17.5s\tremaining: 3m 23s\n",
      "79:\tlearn: 0.1380532\ttotal: 17.7s\tremaining: 3m 23s\n",
      "80:\tlearn: 0.1370142\ttotal: 17.9s\tremaining: 3m 23s\n",
      "81:\tlearn: 0.1364290\ttotal: 18.1s\tremaining: 3m 22s\n",
      "82:\tlearn: 0.1356025\ttotal: 18.3s\tremaining: 3m 22s\n",
      "83:\tlearn: 0.1348488\ttotal: 18.5s\tremaining: 3m 21s\n",
      "84:\tlearn: 0.1339895\ttotal: 18.7s\tremaining: 3m 21s\n",
      "85:\tlearn: 0.1330685\ttotal: 18.9s\tremaining: 3m 20s\n",
      "86:\tlearn: 0.1324305\ttotal: 19.1s\tremaining: 3m 20s\n",
      "87:\tlearn: 0.1320562\ttotal: 19.3s\tremaining: 3m 20s\n",
      "88:\tlearn: 0.1313049\ttotal: 19.5s\tremaining: 3m 19s\n",
      "89:\tlearn: 0.1305477\ttotal: 19.7s\tremaining: 3m 18s\n",
      "90:\tlearn: 0.1297381\ttotal: 19.9s\tremaining: 3m 18s\n",
      "91:\tlearn: 0.1293187\ttotal: 20.1s\tremaining: 3m 17s\n",
      "92:\tlearn: 0.1285367\ttotal: 20.3s\tremaining: 3m 18s\n",
      "93:\tlearn: 0.1279495\ttotal: 20.6s\tremaining: 3m 18s\n",
      "94:\tlearn: 0.1274697\ttotal: 20.9s\tremaining: 3m 18s\n",
      "95:\tlearn: 0.1269449\ttotal: 21.1s\tremaining: 3m 18s\n",
      "96:\tlearn: 0.1258981\ttotal: 21.3s\tremaining: 3m 18s\n",
      "97:\tlearn: 0.1252600\ttotal: 21.5s\tremaining: 3m 17s\n",
      "98:\tlearn: 0.1246936\ttotal: 21.6s\tremaining: 3m 17s\n",
      "99:\tlearn: 0.1241874\ttotal: 21.8s\tremaining: 3m 16s\n",
      "100:\tlearn: 0.1234742\ttotal: 22s\tremaining: 3m 15s\n",
      "101:\tlearn: 0.1227825\ttotal: 22.2s\tremaining: 3m 15s\n",
      "102:\tlearn: 0.1223567\ttotal: 22.4s\tremaining: 3m 14s\n",
      "103:\tlearn: 0.1220151\ttotal: 22.5s\tremaining: 3m 13s\n",
      "104:\tlearn: 0.1213928\ttotal: 22.7s\tremaining: 3m 13s\n",
      "105:\tlearn: 0.1209841\ttotal: 22.9s\tremaining: 3m 12s\n",
      "106:\tlearn: 0.1205230\ttotal: 23s\tremaining: 3m 12s\n",
      "107:\tlearn: 0.1195984\ttotal: 23.2s\tremaining: 3m 11s\n",
      "108:\tlearn: 0.1189155\ttotal: 23.4s\tremaining: 3m 11s\n",
      "109:\tlearn: 0.1184098\ttotal: 23.6s\tremaining: 3m 11s\n",
      "110:\tlearn: 0.1179364\ttotal: 23.8s\tremaining: 3m 10s\n",
      "111:\tlearn: 0.1175836\ttotal: 24.1s\tremaining: 3m 10s\n",
      "112:\tlearn: 0.1170834\ttotal: 24.3s\tremaining: 3m 10s\n",
      "113:\tlearn: 0.1165232\ttotal: 24.5s\tremaining: 3m 10s\n",
      "114:\tlearn: 0.1161755\ttotal: 24.7s\tremaining: 3m 9s\n",
      "115:\tlearn: 0.1157900\ttotal: 24.9s\tremaining: 3m 9s\n",
      "116:\tlearn: 0.1153514\ttotal: 25s\tremaining: 3m 9s\n",
      "117:\tlearn: 0.1147348\ttotal: 25.3s\tremaining: 3m 8s\n",
      "118:\tlearn: 0.1142241\ttotal: 25.5s\tremaining: 3m 8s\n",
      "119:\tlearn: 0.1138635\ttotal: 25.8s\tremaining: 3m 8s\n",
      "120:\tlearn: 0.1135610\ttotal: 26s\tremaining: 3m 8s\n",
      "121:\tlearn: 0.1130045\ttotal: 26.2s\tremaining: 3m 8s\n",
      "122:\tlearn: 0.1126112\ttotal: 26.4s\tremaining: 3m 8s\n",
      "123:\tlearn: 0.1121101\ttotal: 26.6s\tremaining: 3m 7s\n",
      "124:\tlearn: 0.1117632\ttotal: 26.7s\tremaining: 3m 7s\n",
      "125:\tlearn: 0.1112509\ttotal: 26.9s\tremaining: 3m 6s\n",
      "126:\tlearn: 0.1107322\ttotal: 27.1s\tremaining: 3m 6s\n",
      "127:\tlearn: 0.1104156\ttotal: 27.2s\tremaining: 3m 5s\n",
      "128:\tlearn: 0.1100017\ttotal: 27.4s\tremaining: 3m 4s\n",
      "129:\tlearn: 0.1095162\ttotal: 27.5s\tremaining: 3m 4s\n",
      "130:\tlearn: 0.1089902\ttotal: 27.8s\tremaining: 3m 4s\n",
      "131:\tlearn: 0.1085751\ttotal: 28s\tremaining: 3m 3s\n",
      "132:\tlearn: 0.1081809\ttotal: 28.2s\tremaining: 3m 4s\n",
      "133:\tlearn: 0.1077737\ttotal: 28.5s\tremaining: 3m 3s\n",
      "134:\tlearn: 0.1074350\ttotal: 28.7s\tremaining: 3m 3s\n",
      "135:\tlearn: 0.1071345\ttotal: 28.9s\tremaining: 3m 3s\n",
      "136:\tlearn: 0.1067167\ttotal: 29s\tremaining: 3m 2s\n",
      "137:\tlearn: 0.1063765\ttotal: 29.3s\tremaining: 3m 2s\n",
      "138:\tlearn: 0.1059940\ttotal: 29.5s\tremaining: 3m 2s\n",
      "139:\tlearn: 0.1057387\ttotal: 29.7s\tremaining: 3m 2s\n",
      "140:\tlearn: 0.1054423\ttotal: 29.9s\tremaining: 3m 2s\n",
      "141:\tlearn: 0.1053681\ttotal: 30.1s\tremaining: 3m 1s\n",
      "142:\tlearn: 0.1048356\ttotal: 30.3s\tremaining: 3m 1s\n",
      "143:\tlearn: 0.1043630\ttotal: 30.4s\tremaining: 3m 1s\n",
      "144:\tlearn: 0.1039473\ttotal: 30.6s\tremaining: 3m\n",
      "145:\tlearn: 0.1036819\ttotal: 30.8s\tremaining: 3m\n",
      "146:\tlearn: 0.1034269\ttotal: 30.9s\tremaining: 2m 59s\n",
      "147:\tlearn: 0.1031142\ttotal: 31.1s\tremaining: 2m 59s\n",
      "148:\tlearn: 0.1028276\ttotal: 31.3s\tremaining: 2m 58s\n",
      "149:\tlearn: 0.1024399\ttotal: 31.4s\tremaining: 2m 58s\n",
      "150:\tlearn: 0.1021133\ttotal: 31.6s\tremaining: 2m 57s\n",
      "151:\tlearn: 0.1017478\ttotal: 31.8s\tremaining: 2m 57s\n",
      "152:\tlearn: 0.1013760\ttotal: 32s\tremaining: 2m 56s\n",
      "153:\tlearn: 0.1012441\ttotal: 32.1s\tremaining: 2m 56s\n",
      "154:\tlearn: 0.1009576\ttotal: 32.3s\tremaining: 2m 55s\n",
      "155:\tlearn: 0.1007108\ttotal: 32.4s\tremaining: 2m 55s\n",
      "156:\tlearn: 0.1003041\ttotal: 32.6s\tremaining: 2m 55s\n",
      "157:\tlearn: 0.0999583\ttotal: 32.9s\tremaining: 2m 55s\n",
      "158:\tlearn: 0.0995611\ttotal: 33.1s\tremaining: 2m 55s\n",
      "159:\tlearn: 0.0994030\ttotal: 33.3s\tremaining: 2m 54s\n",
      "160:\tlearn: 0.0989688\ttotal: 33.5s\tremaining: 2m 54s\n",
      "161:\tlearn: 0.0987025\ttotal: 33.8s\tremaining: 2m 54s\n",
      "162:\tlearn: 0.0984677\ttotal: 33.9s\tremaining: 2m 54s\n",
      "163:\tlearn: 0.0981035\ttotal: 34.1s\tremaining: 2m 53s\n",
      "164:\tlearn: 0.0979668\ttotal: 34.2s\tremaining: 2m 53s\n",
      "165:\tlearn: 0.0976101\ttotal: 34.4s\tremaining: 2m 52s\n",
      "166:\tlearn: 0.0973067\ttotal: 34.6s\tremaining: 2m 52s\n",
      "167:\tlearn: 0.0970622\ttotal: 34.8s\tremaining: 2m 52s\n",
      "168:\tlearn: 0.0969464\ttotal: 34.9s\tremaining: 2m 51s\n",
      "169:\tlearn: 0.0966936\ttotal: 35.1s\tremaining: 2m 51s\n",
      "170:\tlearn: 0.0965360\ttotal: 35.3s\tremaining: 2m 50s\n",
      "171:\tlearn: 0.0964817\ttotal: 35.4s\tremaining: 2m 50s\n",
      "172:\tlearn: 0.0960973\ttotal: 35.8s\tremaining: 2m 50s\n",
      "173:\tlearn: 0.0959334\ttotal: 35.9s\tremaining: 2m 50s\n",
      "174:\tlearn: 0.0957678\ttotal: 36.1s\tremaining: 2m 50s\n",
      "175:\tlearn: 0.0955868\ttotal: 36.3s\tremaining: 2m 49s\n",
      "176:\tlearn: 0.0951847\ttotal: 36.4s\tremaining: 2m 49s\n",
      "177:\tlearn: 0.0951054\ttotal: 36.6s\tremaining: 2m 48s\n",
      "178:\tlearn: 0.0948862\ttotal: 36.8s\tremaining: 2m 48s\n",
      "179:\tlearn: 0.0946841\ttotal: 36.9s\tremaining: 2m 48s\n",
      "180:\tlearn: 0.0944402\ttotal: 37.1s\tremaining: 2m 47s\n",
      "181:\tlearn: 0.0943921\ttotal: 37.2s\tremaining: 2m 47s\n",
      "182:\tlearn: 0.0941604\ttotal: 37.4s\tremaining: 2m 46s\n",
      "183:\tlearn: 0.0938664\ttotal: 37.6s\tremaining: 2m 46s\n",
      "184:\tlearn: 0.0938295\ttotal: 37.7s\tremaining: 2m 46s\n",
      "185:\tlearn: 0.0934604\ttotal: 37.9s\tremaining: 2m 45s\n",
      "186:\tlearn: 0.0932480\ttotal: 38s\tremaining: 2m 45s\n",
      "187:\tlearn: 0.0930264\ttotal: 38.2s\tremaining: 2m 44s\n",
      "188:\tlearn: 0.0925757\ttotal: 38.4s\tremaining: 2m 44s\n",
      "189:\tlearn: 0.0924245\ttotal: 38.5s\tremaining: 2m 44s\n",
      "190:\tlearn: 0.0922056\ttotal: 38.7s\tremaining: 2m 43s\n",
      "191:\tlearn: 0.0921616\ttotal: 38.8s\tremaining: 2m 43s\n",
      "192:\tlearn: 0.0920539\ttotal: 39s\tremaining: 2m 43s\n",
      "193:\tlearn: 0.0920193\ttotal: 39.2s\tremaining: 2m 42s\n",
      "194:\tlearn: 0.0916792\ttotal: 39.3s\tremaining: 2m 42s\n",
      "195:\tlearn: 0.0914582\ttotal: 39.5s\tremaining: 2m 42s\n",
      "196:\tlearn: 0.0913003\ttotal: 39.7s\tremaining: 2m 41s\n",
      "197:\tlearn: 0.0910404\ttotal: 39.9s\tremaining: 2m 41s\n",
      "198:\tlearn: 0.0910195\ttotal: 40.2s\tremaining: 2m 41s\n",
      "199:\tlearn: 0.0909882\ttotal: 40.4s\tremaining: 2m 41s\n",
      "200:\tlearn: 0.0906878\ttotal: 40.6s\tremaining: 2m 41s\n",
      "201:\tlearn: 0.0906417\ttotal: 40.8s\tremaining: 2m 41s\n",
      "202:\tlearn: 0.0903222\ttotal: 40.9s\tremaining: 2m 40s\n",
      "203:\tlearn: 0.0902886\ttotal: 41.1s\tremaining: 2m 40s\n",
      "204:\tlearn: 0.0898660\ttotal: 41.4s\tremaining: 2m 40s\n",
      "205:\tlearn: 0.0896211\ttotal: 41.6s\tremaining: 2m 40s\n",
      "206:\tlearn: 0.0892104\ttotal: 41.8s\tremaining: 2m 40s\n",
      "207:\tlearn: 0.0889756\ttotal: 42.1s\tremaining: 2m 40s\n",
      "208:\tlearn: 0.0886736\ttotal: 42.3s\tremaining: 2m 40s\n",
      "209:\tlearn: 0.0886356\ttotal: 42.5s\tremaining: 2m 39s\n",
      "210:\tlearn: 0.0884663\ttotal: 42.7s\tremaining: 2m 39s\n",
      "211:\tlearn: 0.0883021\ttotal: 42.9s\tremaining: 2m 39s\n",
      "212:\tlearn: 0.0878809\ttotal: 43.1s\tremaining: 2m 39s\n",
      "213:\tlearn: 0.0876300\ttotal: 43.3s\tremaining: 2m 39s\n",
      "214:\tlearn: 0.0875789\ttotal: 43.5s\tremaining: 2m 38s\n",
      "215:\tlearn: 0.0875239\ttotal: 43.7s\tremaining: 2m 38s\n",
      "216:\tlearn: 0.0874302\ttotal: 43.9s\tremaining: 2m 38s\n",
      "217:\tlearn: 0.0872055\ttotal: 44.2s\tremaining: 2m 38s\n",
      "218:\tlearn: 0.0871818\ttotal: 44.4s\tremaining: 2m 38s\n",
      "219:\tlearn: 0.0869843\ttotal: 44.7s\tremaining: 2m 38s\n",
      "220:\tlearn: 0.0868529\ttotal: 44.9s\tremaining: 2m 38s\n",
      "221:\tlearn: 0.0867286\ttotal: 45.1s\tremaining: 2m 37s\n",
      "222:\tlearn: 0.0865118\ttotal: 45.3s\tremaining: 2m 37s\n",
      "223:\tlearn: 0.0864382\ttotal: 45.4s\tremaining: 2m 37s\n",
      "224:\tlearn: 0.0862476\ttotal: 45.6s\tremaining: 2m 37s\n",
      "225:\tlearn: 0.0860613\ttotal: 45.8s\tremaining: 2m 36s\n",
      "226:\tlearn: 0.0858039\ttotal: 46s\tremaining: 2m 36s\n",
      "227:\tlearn: 0.0857807\ttotal: 46.2s\tremaining: 2m 36s\n",
      "228:\tlearn: 0.0856104\ttotal: 46.3s\tremaining: 2m 35s\n",
      "229:\tlearn: 0.0854506\ttotal: 46.5s\tremaining: 2m 35s\n",
      "230:\tlearn: 0.0854253\ttotal: 46.7s\tremaining: 2m 35s\n",
      "231:\tlearn: 0.0851749\ttotal: 46.8s\tremaining: 2m 35s\n",
      "232:\tlearn: 0.0849057\ttotal: 47s\tremaining: 2m 34s\n",
      "233:\tlearn: 0.0848794\ttotal: 47.2s\tremaining: 2m 34s\n",
      "234:\tlearn: 0.0848319\ttotal: 47.4s\tremaining: 2m 34s\n",
      "235:\tlearn: 0.0847975\ttotal: 47.6s\tremaining: 2m 34s\n",
      "236:\tlearn: 0.0845628\ttotal: 47.9s\tremaining: 2m 34s\n",
      "237:\tlearn: 0.0845083\ttotal: 48s\tremaining: 2m 33s\n",
      "238:\tlearn: 0.0844786\ttotal: 48.2s\tremaining: 2m 33s\n",
      "239:\tlearn: 0.0842823\ttotal: 48.4s\tremaining: 2m 33s\n",
      "240:\tlearn: 0.0841056\ttotal: 48.5s\tremaining: 2m 32s\n",
      "241:\tlearn: 0.0838320\ttotal: 48.7s\tremaining: 2m 32s\n",
      "242:\tlearn: 0.0837989\ttotal: 48.9s\tremaining: 2m 32s\n",
      "243:\tlearn: 0.0835827\ttotal: 49.1s\tremaining: 2m 32s\n",
      "244:\tlearn: 0.0835455\ttotal: 49.2s\tremaining: 2m 31s\n",
      "245:\tlearn: 0.0835096\ttotal: 49.4s\tremaining: 2m 31s\n",
      "246:\tlearn: 0.0834798\ttotal: 49.5s\tremaining: 2m 31s\n",
      "247:\tlearn: 0.0834459\ttotal: 49.7s\tremaining: 2m 30s\n",
      "248:\tlearn: 0.0834168\ttotal: 49.8s\tremaining: 2m 30s\n",
      "249:\tlearn: 0.0833820\ttotal: 50s\tremaining: 2m 29s\n",
      "250:\tlearn: 0.0832248\ttotal: 50.1s\tremaining: 2m 29s\n",
      "251:\tlearn: 0.0829512\ttotal: 50.3s\tremaining: 2m 29s\n",
      "252:\tlearn: 0.0829226\ttotal: 50.5s\tremaining: 2m 29s\n",
      "253:\tlearn: 0.0825588\ttotal: 50.8s\tremaining: 2m 29s\n",
      "254:\tlearn: 0.0823440\ttotal: 51s\tremaining: 2m 29s\n",
      "255:\tlearn: 0.0820462\ttotal: 51.2s\tremaining: 2m 28s\n",
      "256:\tlearn: 0.0817804\ttotal: 51.4s\tremaining: 2m 28s\n",
      "257:\tlearn: 0.0817532\ttotal: 51.6s\tremaining: 2m 28s\n",
      "258:\tlearn: 0.0817238\ttotal: 51.7s\tremaining: 2m 27s\n",
      "259:\tlearn: 0.0813576\ttotal: 51.9s\tremaining: 2m 27s\n",
      "260:\tlearn: 0.0813352\ttotal: 52.1s\tremaining: 2m 27s\n",
      "261:\tlearn: 0.0812953\ttotal: 52.2s\tremaining: 2m 27s\n",
      "262:\tlearn: 0.0811674\ttotal: 52.4s\tremaining: 2m 26s\n",
      "263:\tlearn: 0.0811416\ttotal: 52.5s\tremaining: 2m 26s\n",
      "264:\tlearn: 0.0810780\ttotal: 52.7s\tremaining: 2m 26s\n",
      "265:\tlearn: 0.0810521\ttotal: 52.9s\tremaining: 2m 25s\n",
      "266:\tlearn: 0.0808055\ttotal: 53s\tremaining: 2m 25s\n",
      "267:\tlearn: 0.0806466\ttotal: 53.2s\tremaining: 2m 25s\n",
      "268:\tlearn: 0.0803781\ttotal: 53.4s\tremaining: 2m 25s\n",
      "269:\tlearn: 0.0803404\ttotal: 53.6s\tremaining: 2m 24s\n",
      "270:\tlearn: 0.0800866\ttotal: 53.8s\tremaining: 2m 24s\n",
      "271:\tlearn: 0.0800218\ttotal: 54.1s\tremaining: 2m 24s\n",
      "272:\tlearn: 0.0799898\ttotal: 54.2s\tremaining: 2m 24s\n",
      "273:\tlearn: 0.0797607\ttotal: 54.4s\tremaining: 2m 24s\n",
      "274:\tlearn: 0.0797306\ttotal: 54.6s\tremaining: 2m 23s\n",
      "275:\tlearn: 0.0797045\ttotal: 54.8s\tremaining: 2m 23s\n",
      "276:\tlearn: 0.0796781\ttotal: 54.9s\tremaining: 2m 23s\n",
      "277:\tlearn: 0.0796564\ttotal: 55.1s\tremaining: 2m 23s\n",
      "278:\tlearn: 0.0796264\ttotal: 55.2s\tremaining: 2m 22s\n",
      "279:\tlearn: 0.0795980\ttotal: 55.4s\tremaining: 2m 22s\n",
      "280:\tlearn: 0.0793929\ttotal: 55.5s\tremaining: 2m 22s\n",
      "281:\tlearn: 0.0790357\ttotal: 55.7s\tremaining: 2m 21s\n",
      "282:\tlearn: 0.0788523\ttotal: 55.9s\tremaining: 2m 21s\n",
      "283:\tlearn: 0.0788237\ttotal: 56.1s\tremaining: 2m 21s\n",
      "284:\tlearn: 0.0787790\ttotal: 56.2s\tremaining: 2m 21s\n",
      "285:\tlearn: 0.0787535\ttotal: 56.4s\tremaining: 2m 20s\n",
      "286:\tlearn: 0.0787214\ttotal: 56.5s\tremaining: 2m 20s\n",
      "287:\tlearn: 0.0786963\ttotal: 56.7s\tremaining: 2m 20s\n",
      "288:\tlearn: 0.0786728\ttotal: 56.8s\tremaining: 2m 19s\n",
      "289:\tlearn: 0.0785275\ttotal: 57.1s\tremaining: 2m 19s\n",
      "290:\tlearn: 0.0785012\ttotal: 57.3s\tremaining: 2m 19s\n",
      "291:\tlearn: 0.0784715\ttotal: 57.5s\tremaining: 2m 19s\n",
      "292:\tlearn: 0.0784259\ttotal: 57.7s\tremaining: 2m 19s\n",
      "293:\tlearn: 0.0784007\ttotal: 57.8s\tremaining: 2m 18s\n",
      "294:\tlearn: 0.0782257\ttotal: 58s\tremaining: 2m 18s\n",
      "295:\tlearn: 0.0780090\ttotal: 58.3s\tremaining: 2m 18s\n",
      "296:\tlearn: 0.0779823\ttotal: 58.6s\tremaining: 2m 18s\n",
      "297:\tlearn: 0.0779441\ttotal: 58.8s\tremaining: 2m 18s\n",
      "298:\tlearn: 0.0778857\ttotal: 59s\tremaining: 2m 18s\n",
      "299:\tlearn: 0.0778596\ttotal: 59.3s\tremaining: 2m 18s\n",
      "300:\tlearn: 0.0776919\ttotal: 59.6s\tremaining: 2m 18s\n",
      "301:\tlearn: 0.0776709\ttotal: 59.8s\tremaining: 2m 18s\n",
      "302:\tlearn: 0.0776442\ttotal: 59.9s\tremaining: 2m 17s\n",
      "303:\tlearn: 0.0774239\ttotal: 1m\tremaining: 2m 17s\n",
      "304:\tlearn: 0.0773815\ttotal: 1m\tremaining: 2m 17s\n",
      "305:\tlearn: 0.0773545\ttotal: 1m\tremaining: 2m 17s\n",
      "306:\tlearn: 0.0773084\ttotal: 1m\tremaining: 2m 16s\n",
      "307:\tlearn: 0.0770776\ttotal: 1m\tremaining: 2m 16s\n",
      "308:\tlearn: 0.0770459\ttotal: 1m 1s\tremaining: 2m 16s\n",
      "309:\tlearn: 0.0770212\ttotal: 1m 1s\tremaining: 2m 16s\n",
      "310:\tlearn: 0.0769868\ttotal: 1m 1s\tremaining: 2m 16s\n",
      "311:\tlearn: 0.0769591\ttotal: 1m 1s\tremaining: 2m 16s\n",
      "312:\tlearn: 0.0769322\ttotal: 1m 1s\tremaining: 2m 15s\n",
      "313:\tlearn: 0.0766500\ttotal: 1m 2s\tremaining: 2m 15s\n",
      "314:\tlearn: 0.0766259\ttotal: 1m 2s\tremaining: 2m 15s\n",
      "315:\tlearn: 0.0766007\ttotal: 1m 2s\tremaining: 2m 15s\n",
      "316:\tlearn: 0.0763840\ttotal: 1m 2s\tremaining: 2m 15s\n",
      "317:\tlearn: 0.0763628\ttotal: 1m 2s\tremaining: 2m 14s\n",
      "318:\tlearn: 0.0763370\ttotal: 1m 3s\tremaining: 2m 14s\n",
      "319:\tlearn: 0.0761895\ttotal: 1m 3s\tremaining: 2m 14s\n",
      "320:\tlearn: 0.0761666\ttotal: 1m 3s\tremaining: 2m 14s\n",
      "321:\tlearn: 0.0761431\ttotal: 1m 3s\tremaining: 2m 14s\n",
      "322:\tlearn: 0.0761194\ttotal: 1m 3s\tremaining: 2m 14s\n",
      "323:\tlearn: 0.0760957\ttotal: 1m 4s\tremaining: 2m 13s\n",
      "324:\tlearn: 0.0760690\ttotal: 1m 4s\tremaining: 2m 13s\n",
      "325:\tlearn: 0.0758592\ttotal: 1m 4s\tremaining: 2m 13s\n",
      "326:\tlearn: 0.0758359\ttotal: 1m 4s\tremaining: 2m 13s\n",
      "327:\tlearn: 0.0758085\ttotal: 1m 4s\tremaining: 2m 12s\n",
      "328:\tlearn: 0.0755182\ttotal: 1m 5s\tremaining: 2m 12s\n",
      "329:\tlearn: 0.0754861\ttotal: 1m 5s\tremaining: 2m 12s\n",
      "330:\tlearn: 0.0753254\ttotal: 1m 5s\tremaining: 2m 12s\n",
      "331:\tlearn: 0.0752999\ttotal: 1m 5s\tremaining: 2m 12s\n",
      "332:\tlearn: 0.0750517\ttotal: 1m 6s\tremaining: 2m 12s\n",
      "333:\tlearn: 0.0750204\ttotal: 1m 6s\tremaining: 2m 12s\n",
      "334:\tlearn: 0.0749807\ttotal: 1m 6s\tremaining: 2m 11s\n",
      "335:\tlearn: 0.0749455\ttotal: 1m 6s\tremaining: 2m 11s\n",
      "336:\tlearn: 0.0748037\ttotal: 1m 6s\tremaining: 2m 11s\n",
      "337:\tlearn: 0.0747786\ttotal: 1m 7s\tremaining: 2m 11s\n",
      "338:\tlearn: 0.0747566\ttotal: 1m 7s\tremaining: 2m 11s\n",
      "339:\tlearn: 0.0745620\ttotal: 1m 7s\tremaining: 2m 11s\n",
      "340:\tlearn: 0.0743221\ttotal: 1m 7s\tremaining: 2m 11s\n",
      "341:\tlearn: 0.0740704\ttotal: 1m 8s\tremaining: 2m 10s\n",
      "342:\tlearn: 0.0738394\ttotal: 1m 8s\tremaining: 2m 10s\n",
      "343:\tlearn: 0.0737871\ttotal: 1m 8s\tremaining: 2m 10s\n",
      "344:\tlearn: 0.0735842\ttotal: 1m 8s\tremaining: 2m 10s\n",
      "345:\tlearn: 0.0735611\ttotal: 1m 8s\tremaining: 2m 9s\n",
      "346:\tlearn: 0.0735373\ttotal: 1m 8s\tremaining: 2m 9s\n",
      "347:\tlearn: 0.0735025\ttotal: 1m 9s\tremaining: 2m 9s\n",
      "348:\tlearn: 0.0733034\ttotal: 1m 9s\tremaining: 2m 9s\n",
      "349:\tlearn: 0.0731579\ttotal: 1m 9s\tremaining: 2m 8s\n",
      "350:\tlearn: 0.0731347\ttotal: 1m 9s\tremaining: 2m 8s\n",
      "351:\tlearn: 0.0728969\ttotal: 1m 9s\tremaining: 2m 8s\n",
      "352:\tlearn: 0.0727053\ttotal: 1m 9s\tremaining: 2m 8s\n",
      "353:\tlearn: 0.0726802\ttotal: 1m 10s\tremaining: 2m 8s\n",
      "354:\tlearn: 0.0726538\ttotal: 1m 10s\tremaining: 2m 7s\n",
      "355:\tlearn: 0.0724086\ttotal: 1m 10s\tremaining: 2m 7s\n",
      "356:\tlearn: 0.0723859\ttotal: 1m 11s\tremaining: 2m 7s\n",
      "357:\tlearn: 0.0723631\ttotal: 1m 11s\tremaining: 2m 7s\n",
      "358:\tlearn: 0.0722006\ttotal: 1m 11s\tremaining: 2m 7s\n",
      "359:\tlearn: 0.0721757\ttotal: 1m 11s\tremaining: 2m 7s\n",
      "360:\tlearn: 0.0719894\ttotal: 1m 11s\tremaining: 2m 7s\n",
      "361:\tlearn: 0.0719379\ttotal: 1m 12s\tremaining: 2m 7s\n",
      "362:\tlearn: 0.0719143\ttotal: 1m 12s\tremaining: 2m 6s\n",
      "363:\tlearn: 0.0718082\ttotal: 1m 12s\tremaining: 2m 6s\n",
      "364:\tlearn: 0.0715620\ttotal: 1m 12s\tremaining: 2m 6s\n",
      "365:\tlearn: 0.0715397\ttotal: 1m 12s\tremaining: 2m 6s\n",
      "366:\tlearn: 0.0715023\ttotal: 1m 13s\tremaining: 2m 6s\n",
      "367:\tlearn: 0.0712993\ttotal: 1m 13s\tremaining: 2m 6s\n",
      "368:\tlearn: 0.0712755\ttotal: 1m 13s\tremaining: 2m 6s\n",
      "369:\tlearn: 0.0712517\ttotal: 1m 13s\tremaining: 2m 5s\n",
      "370:\tlearn: 0.0712286\ttotal: 1m 14s\tremaining: 2m 5s\n",
      "371:\tlearn: 0.0711100\ttotal: 1m 14s\tremaining: 2m 5s\n",
      "372:\tlearn: 0.0709677\ttotal: 1m 14s\tremaining: 2m 5s\n",
      "373:\tlearn: 0.0709443\ttotal: 1m 14s\tremaining: 2m 4s\n",
      "374:\tlearn: 0.0707013\ttotal: 1m 14s\tremaining: 2m 4s\n",
      "375:\tlearn: 0.0706783\ttotal: 1m 14s\tremaining: 2m 4s\n",
      "376:\tlearn: 0.0705703\ttotal: 1m 15s\tremaining: 2m 4s\n",
      "377:\tlearn: 0.0703338\ttotal: 1m 15s\tremaining: 2m 3s\n",
      "378:\tlearn: 0.0703126\ttotal: 1m 15s\tremaining: 2m 3s\n",
      "379:\tlearn: 0.0701107\ttotal: 1m 15s\tremaining: 2m 3s\n",
      "380:\tlearn: 0.0700773\ttotal: 1m 15s\tremaining: 2m 3s\n",
      "381:\tlearn: 0.0700469\ttotal: 1m 15s\tremaining: 2m 2s\n",
      "382:\tlearn: 0.0700248\ttotal: 1m 16s\tremaining: 2m 2s\n",
      "383:\tlearn: 0.0700022\ttotal: 1m 16s\tremaining: 2m 2s\n",
      "384:\tlearn: 0.0697520\ttotal: 1m 16s\tremaining: 2m 2s\n",
      "385:\tlearn: 0.0695453\ttotal: 1m 16s\tremaining: 2m 1s\n",
      "386:\tlearn: 0.0695161\ttotal: 1m 16s\tremaining: 2m 1s\n",
      "387:\tlearn: 0.0693677\ttotal: 1m 16s\tremaining: 2m 1s\n",
      "388:\tlearn: 0.0693322\ttotal: 1m 17s\tremaining: 2m\n",
      "389:\tlearn: 0.0693108\ttotal: 1m 17s\tremaining: 2m\n",
      "390:\tlearn: 0.0692808\ttotal: 1m 17s\tremaining: 2m\n",
      "391:\tlearn: 0.0692591\ttotal: 1m 17s\tremaining: 2m\n",
      "392:\tlearn: 0.0692377\ttotal: 1m 17s\tremaining: 1m 59s\n",
      "393:\tlearn: 0.0692164\ttotal: 1m 17s\tremaining: 1m 59s\n",
      "394:\tlearn: 0.0691955\ttotal: 1m 17s\tremaining: 1m 59s\n",
      "395:\tlearn: 0.0690002\ttotal: 1m 18s\tremaining: 1m 59s\n",
      "396:\tlearn: 0.0689789\ttotal: 1m 18s\tremaining: 1m 59s\n",
      "397:\tlearn: 0.0688246\ttotal: 1m 18s\tremaining: 1m 59s\n",
      "398:\tlearn: 0.0688037\ttotal: 1m 18s\tremaining: 1m 58s\n",
      "399:\tlearn: 0.0687686\ttotal: 1m 19s\tremaining: 1m 58s\n",
      "400:\tlearn: 0.0685797\ttotal: 1m 19s\tremaining: 1m 58s\n",
      "401:\tlearn: 0.0685477\ttotal: 1m 19s\tremaining: 1m 58s\n",
      "402:\tlearn: 0.0685275\ttotal: 1m 19s\tremaining: 1m 57s\n",
      "403:\tlearn: 0.0684490\ttotal: 1m 19s\tremaining: 1m 57s\n",
      "404:\tlearn: 0.0683844\ttotal: 1m 19s\tremaining: 1m 57s\n",
      "405:\tlearn: 0.0683640\ttotal: 1m 20s\tremaining: 1m 57s\n",
      "406:\tlearn: 0.0683341\ttotal: 1m 20s\tremaining: 1m 56s\n",
      "407:\tlearn: 0.0681774\ttotal: 1m 20s\tremaining: 1m 56s\n",
      "408:\tlearn: 0.0680058\ttotal: 1m 20s\tremaining: 1m 56s\n",
      "409:\tlearn: 0.0678321\ttotal: 1m 20s\tremaining: 1m 56s\n",
      "410:\tlearn: 0.0676670\ttotal: 1m 20s\tremaining: 1m 55s\n",
      "411:\tlearn: 0.0676468\ttotal: 1m 20s\tremaining: 1m 55s\n",
      "412:\tlearn: 0.0674665\ttotal: 1m 21s\tremaining: 1m 55s\n",
      "413:\tlearn: 0.0673491\ttotal: 1m 21s\tremaining: 1m 55s\n",
      "414:\tlearn: 0.0673159\ttotal: 1m 21s\tremaining: 1m 54s\n",
      "415:\tlearn: 0.0670866\ttotal: 1m 21s\tremaining: 1m 54s\n",
      "416:\tlearn: 0.0670670\ttotal: 1m 21s\tremaining: 1m 54s\n",
      "417:\tlearn: 0.0669407\ttotal: 1m 22s\tremaining: 1m 54s\n",
      "418:\tlearn: 0.0668465\ttotal: 1m 22s\tremaining: 1m 54s\n",
      "419:\tlearn: 0.0668172\ttotal: 1m 22s\tremaining: 1m 53s\n",
      "420:\tlearn: 0.0667884\ttotal: 1m 22s\tremaining: 1m 53s\n",
      "421:\tlearn: 0.0665798\ttotal: 1m 22s\tremaining: 1m 53s\n",
      "422:\tlearn: 0.0665600\ttotal: 1m 23s\tremaining: 1m 53s\n",
      "423:\tlearn: 0.0665125\ttotal: 1m 23s\tremaining: 1m 53s\n",
      "424:\tlearn: 0.0663237\ttotal: 1m 23s\tremaining: 1m 53s\n",
      "425:\tlearn: 0.0661515\ttotal: 1m 23s\tremaining: 1m 52s\n",
      "426:\tlearn: 0.0661240\ttotal: 1m 23s\tremaining: 1m 52s\n",
      "427:\tlearn: 0.0660960\ttotal: 1m 24s\tremaining: 1m 52s\n",
      "428:\tlearn: 0.0659159\ttotal: 1m 24s\tremaining: 1m 52s\n",
      "429:\tlearn: 0.0658939\ttotal: 1m 24s\tremaining: 1m 51s\n",
      "430:\tlearn: 0.0658743\ttotal: 1m 24s\tremaining: 1m 51s\n",
      "431:\tlearn: 0.0658506\ttotal: 1m 24s\tremaining: 1m 51s\n",
      "432:\tlearn: 0.0657120\ttotal: 1m 24s\tremaining: 1m 51s\n",
      "433:\tlearn: 0.0656813\ttotal: 1m 25s\tremaining: 1m 50s\n",
      "434:\tlearn: 0.0655619\ttotal: 1m 25s\tremaining: 1m 50s\n",
      "435:\tlearn: 0.0652817\ttotal: 1m 25s\tremaining: 1m 50s\n",
      "436:\tlearn: 0.0652624\ttotal: 1m 25s\tremaining: 1m 50s\n",
      "437:\tlearn: 0.0652433\ttotal: 1m 25s\tremaining: 1m 49s\n",
      "438:\tlearn: 0.0651203\ttotal: 1m 25s\tremaining: 1m 49s\n",
      "439:\tlearn: 0.0651014\ttotal: 1m 26s\tremaining: 1m 49s\n",
      "440:\tlearn: 0.0650825\ttotal: 1m 26s\tremaining: 1m 49s\n",
      "441:\tlearn: 0.0650636\ttotal: 1m 26s\tremaining: 1m 49s\n",
      "442:\tlearn: 0.0650449\ttotal: 1m 26s\tremaining: 1m 49s\n",
      "443:\tlearn: 0.0648185\ttotal: 1m 26s\tremaining: 1m 48s\n",
      "444:\tlearn: 0.0647875\ttotal: 1m 27s\tremaining: 1m 48s\n",
      "445:\tlearn: 0.0647601\ttotal: 1m 27s\tremaining: 1m 48s\n",
      "446:\tlearn: 0.0646151\ttotal: 1m 27s\tremaining: 1m 48s\n",
      "447:\tlearn: 0.0645850\ttotal: 1m 27s\tremaining: 1m 47s\n",
      "448:\tlearn: 0.0644975\ttotal: 1m 27s\tremaining: 1m 47s\n",
      "449:\tlearn: 0.0644789\ttotal: 1m 27s\tremaining: 1m 47s\n",
      "450:\tlearn: 0.0644606\ttotal: 1m 28s\tremaining: 1m 47s\n",
      "451:\tlearn: 0.0644423\ttotal: 1m 28s\tremaining: 1m 46s\n",
      "452:\tlearn: 0.0644241\ttotal: 1m 28s\tremaining: 1m 46s\n",
      "453:\tlearn: 0.0644063\ttotal: 1m 28s\tremaining: 1m 46s\n",
      "454:\tlearn: 0.0641436\ttotal: 1m 28s\tremaining: 1m 46s\n",
      "455:\tlearn: 0.0640515\ttotal: 1m 29s\tremaining: 1m 46s\n",
      "456:\tlearn: 0.0640337\ttotal: 1m 29s\tremaining: 1m 46s\n",
      "457:\tlearn: 0.0640158\ttotal: 1m 29s\tremaining: 1m 45s\n",
      "458:\tlearn: 0.0639983\ttotal: 1m 29s\tremaining: 1m 45s\n",
      "459:\tlearn: 0.0639328\ttotal: 1m 29s\tremaining: 1m 45s\n",
      "460:\tlearn: 0.0639152\ttotal: 1m 29s\tremaining: 1m 45s\n",
      "461:\tlearn: 0.0638978\ttotal: 1m 30s\tremaining: 1m 44s\n",
      "462:\tlearn: 0.0637893\ttotal: 1m 30s\tremaining: 1m 44s\n",
      "463:\tlearn: 0.0637720\ttotal: 1m 30s\tremaining: 1m 44s\n",
      "464:\tlearn: 0.0635502\ttotal: 1m 30s\tremaining: 1m 44s\n",
      "465:\tlearn: 0.0635332\ttotal: 1m 30s\tremaining: 1m 43s\n",
      "466:\tlearn: 0.0635049\ttotal: 1m 30s\tremaining: 1m 43s\n",
      "467:\tlearn: 0.0634695\ttotal: 1m 30s\tremaining: 1m 43s\n",
      "468:\tlearn: 0.0632692\ttotal: 1m 31s\tremaining: 1m 43s\n",
      "469:\tlearn: 0.0631278\ttotal: 1m 31s\tremaining: 1m 43s\n",
      "470:\tlearn: 0.0630689\ttotal: 1m 31s\tremaining: 1m 42s\n",
      "471:\tlearn: 0.0628672\ttotal: 1m 31s\tremaining: 1m 42s\n",
      "472:\tlearn: 0.0626896\ttotal: 1m 32s\tremaining: 1m 42s\n",
      "473:\tlearn: 0.0626726\ttotal: 1m 32s\tremaining: 1m 42s\n",
      "474:\tlearn: 0.0626555\ttotal: 1m 32s\tremaining: 1m 42s\n",
      "475:\tlearn: 0.0625656\ttotal: 1m 32s\tremaining: 1m 42s\n",
      "476:\tlearn: 0.0624090\ttotal: 1m 32s\tremaining: 1m 41s\n",
      "477:\tlearn: 0.0623124\ttotal: 1m 33s\tremaining: 1m 41s\n",
      "478:\tlearn: 0.0622435\ttotal: 1m 33s\tremaining: 1m 41s\n",
      "479:\tlearn: 0.0622264\ttotal: 1m 33s\tremaining: 1m 41s\n",
      "480:\tlearn: 0.0622094\ttotal: 1m 33s\tremaining: 1m 40s\n",
      "481:\tlearn: 0.0620667\ttotal: 1m 33s\tremaining: 1m 40s\n",
      "482:\tlearn: 0.0620392\ttotal: 1m 33s\tremaining: 1m 40s\n",
      "483:\tlearn: 0.0620226\ttotal: 1m 34s\tremaining: 1m 40s\n",
      "484:\tlearn: 0.0618568\ttotal: 1m 34s\tremaining: 1m 40s\n",
      "485:\tlearn: 0.0616976\ttotal: 1m 34s\tremaining: 1m 39s\n",
      "486:\tlearn: 0.0615713\ttotal: 1m 34s\tremaining: 1m 39s\n",
      "487:\tlearn: 0.0615306\ttotal: 1m 34s\tremaining: 1m 39s\n",
      "488:\tlearn: 0.0615064\ttotal: 1m 34s\tremaining: 1m 39s\n",
      "489:\tlearn: 0.0612861\ttotal: 1m 35s\tremaining: 1m 39s\n",
      "490:\tlearn: 0.0612692\ttotal: 1m 35s\tremaining: 1m 38s\n",
      "491:\tlearn: 0.0612526\ttotal: 1m 35s\tremaining: 1m 38s\n",
      "492:\tlearn: 0.0611306\ttotal: 1m 35s\tremaining: 1m 38s\n",
      "493:\tlearn: 0.0610487\ttotal: 1m 35s\tremaining: 1m 38s\n",
      "494:\tlearn: 0.0609513\ttotal: 1m 36s\tremaining: 1m 38s\n",
      "495:\tlearn: 0.0608846\ttotal: 1m 36s\tremaining: 1m 37s\n",
      "496:\tlearn: 0.0607138\ttotal: 1m 36s\tremaining: 1m 37s\n",
      "497:\tlearn: 0.0606972\ttotal: 1m 36s\tremaining: 1m 37s\n",
      "498:\tlearn: 0.0606808\ttotal: 1m 36s\tremaining: 1m 37s\n",
      "499:\tlearn: 0.0605943\ttotal: 1m 37s\tremaining: 1m 37s\n",
      "500:\tlearn: 0.0603556\ttotal: 1m 37s\tremaining: 1m 36s\n",
      "501:\tlearn: 0.0603394\ttotal: 1m 37s\tremaining: 1m 36s\n",
      "502:\tlearn: 0.0603124\ttotal: 1m 37s\tremaining: 1m 36s\n",
      "503:\tlearn: 0.0602826\ttotal: 1m 37s\tremaining: 1m 36s\n",
      "504:\tlearn: 0.0602630\ttotal: 1m 37s\tremaining: 1m 35s\n",
      "505:\tlearn: 0.0602470\ttotal: 1m 37s\tremaining: 1m 35s\n",
      "506:\tlearn: 0.0602312\ttotal: 1m 38s\tremaining: 1m 35s\n",
      "507:\tlearn: 0.0600462\ttotal: 1m 38s\tremaining: 1m 35s\n",
      "508:\tlearn: 0.0600304\ttotal: 1m 38s\tremaining: 1m 34s\n",
      "509:\tlearn: 0.0598924\ttotal: 1m 38s\tremaining: 1m 34s\n",
      "510:\tlearn: 0.0597485\ttotal: 1m 38s\tremaining: 1m 34s\n",
      "511:\tlearn: 0.0597195\ttotal: 1m 39s\tremaining: 1m 34s\n",
      "512:\tlearn: 0.0597037\ttotal: 1m 39s\tremaining: 1m 34s\n",
      "513:\tlearn: 0.0596717\ttotal: 1m 39s\tremaining: 1m 34s\n",
      "514:\tlearn: 0.0596564\ttotal: 1m 39s\tremaining: 1m 33s\n",
      "515:\tlearn: 0.0596409\ttotal: 1m 39s\tremaining: 1m 33s\n",
      "516:\tlearn: 0.0596255\ttotal: 1m 39s\tremaining: 1m 33s\n",
      "517:\tlearn: 0.0595089\ttotal: 1m 40s\tremaining: 1m 33s\n",
      "518:\tlearn: 0.0594937\ttotal: 1m 40s\tremaining: 1m 32s\n",
      "519:\tlearn: 0.0594694\ttotal: 1m 40s\tremaining: 1m 32s\n",
      "520:\tlearn: 0.0594462\ttotal: 1m 40s\tremaining: 1m 32s\n",
      "521:\tlearn: 0.0594228\ttotal: 1m 40s\tremaining: 1m 32s\n",
      "522:\tlearn: 0.0592650\ttotal: 1m 40s\tremaining: 1m 32s\n",
      "523:\tlearn: 0.0592499\ttotal: 1m 41s\tremaining: 1m 31s\n",
      "524:\tlearn: 0.0592270\ttotal: 1m 41s\tremaining: 1m 31s\n",
      "525:\tlearn: 0.0591815\ttotal: 1m 41s\tremaining: 1m 31s\n",
      "526:\tlearn: 0.0591202\ttotal: 1m 41s\tremaining: 1m 31s\n",
      "527:\tlearn: 0.0589324\ttotal: 1m 41s\tremaining: 1m 30s\n",
      "528:\tlearn: 0.0588967\ttotal: 1m 41s\tremaining: 1m 30s\n",
      "529:\tlearn: 0.0588816\ttotal: 1m 42s\tremaining: 1m 30s\n",
      "530:\tlearn: 0.0588664\ttotal: 1m 42s\tremaining: 1m 30s\n",
      "531:\tlearn: 0.0587338\ttotal: 1m 42s\tremaining: 1m 30s\n",
      "532:\tlearn: 0.0587187\ttotal: 1m 42s\tremaining: 1m 29s\n",
      "533:\tlearn: 0.0586422\ttotal: 1m 42s\tremaining: 1m 29s\n",
      "534:\tlearn: 0.0586226\ttotal: 1m 43s\tremaining: 1m 29s\n",
      "535:\tlearn: 0.0586077\ttotal: 1m 43s\tremaining: 1m 29s\n",
      "536:\tlearn: 0.0585855\ttotal: 1m 43s\tremaining: 1m 29s\n",
      "537:\tlearn: 0.0585706\ttotal: 1m 43s\tremaining: 1m 28s\n",
      "538:\tlearn: 0.0584361\ttotal: 1m 43s\tremaining: 1m 28s\n",
      "539:\tlearn: 0.0584136\ttotal: 1m 43s\tremaining: 1m 28s\n",
      "540:\tlearn: 0.0583031\ttotal: 1m 44s\tremaining: 1m 28s\n",
      "541:\tlearn: 0.0582883\ttotal: 1m 44s\tremaining: 1m 28s\n",
      "542:\tlearn: 0.0581700\ttotal: 1m 44s\tremaining: 1m 27s\n",
      "543:\tlearn: 0.0581457\ttotal: 1m 44s\tremaining: 1m 27s\n",
      "544:\tlearn: 0.0581311\ttotal: 1m 44s\tremaining: 1m 27s\n",
      "545:\tlearn: 0.0580326\ttotal: 1m 44s\tremaining: 1m 27s\n",
      "546:\tlearn: 0.0580180\ttotal: 1m 44s\tremaining: 1m 26s\n",
      "547:\tlearn: 0.0578339\ttotal: 1m 45s\tremaining: 1m 26s\n",
      "548:\tlearn: 0.0578152\ttotal: 1m 45s\tremaining: 1m 26s\n",
      "549:\tlearn: 0.0578007\ttotal: 1m 45s\tremaining: 1m 26s\n",
      "550:\tlearn: 0.0576254\ttotal: 1m 45s\tremaining: 1m 26s\n",
      "551:\tlearn: 0.0575965\ttotal: 1m 45s\tremaining: 1m 25s\n",
      "552:\tlearn: 0.0575821\ttotal: 1m 45s\tremaining: 1m 25s\n",
      "553:\tlearn: 0.0575579\ttotal: 1m 46s\tremaining: 1m 25s\n",
      "554:\tlearn: 0.0573025\ttotal: 1m 46s\tremaining: 1m 25s\n",
      "555:\tlearn: 0.0572037\ttotal: 1m 46s\tremaining: 1m 25s\n",
      "556:\tlearn: 0.0571893\ttotal: 1m 46s\tremaining: 1m 24s\n",
      "557:\tlearn: 0.0571752\ttotal: 1m 47s\tremaining: 1m 24s\n",
      "558:\tlearn: 0.0570032\ttotal: 1m 47s\tremaining: 1m 24s\n",
      "559:\tlearn: 0.0569850\ttotal: 1m 47s\tremaining: 1m 24s\n",
      "560:\tlearn: 0.0569092\ttotal: 1m 47s\tremaining: 1m 24s\n",
      "561:\tlearn: 0.0568122\ttotal: 1m 47s\tremaining: 1m 23s\n",
      "562:\tlearn: 0.0567980\ttotal: 1m 47s\tremaining: 1m 23s\n",
      "563:\tlearn: 0.0567839\ttotal: 1m 48s\tremaining: 1m 23s\n",
      "564:\tlearn: 0.0566854\ttotal: 1m 48s\tremaining: 1m 23s\n",
      "565:\tlearn: 0.0566593\ttotal: 1m 48s\tremaining: 1m 23s\n",
      "566:\tlearn: 0.0566453\ttotal: 1m 48s\tremaining: 1m 22s\n",
      "567:\tlearn: 0.0566252\ttotal: 1m 48s\tremaining: 1m 22s\n",
      "568:\tlearn: 0.0566008\ttotal: 1m 48s\tremaining: 1m 22s\n",
      "569:\tlearn: 0.0565524\ttotal: 1m 48s\tremaining: 1m 22s\n",
      "570:\tlearn: 0.0564461\ttotal: 1m 49s\tremaining: 1m 22s\n",
      "571:\tlearn: 0.0564322\ttotal: 1m 49s\tremaining: 1m 21s\n",
      "572:\tlearn: 0.0564106\ttotal: 1m 49s\tremaining: 1m 21s\n",
      "573:\tlearn: 0.0563949\ttotal: 1m 49s\tremaining: 1m 21s\n",
      "574:\tlearn: 0.0563810\ttotal: 1m 49s\tremaining: 1m 21s\n",
      "575:\tlearn: 0.0563618\ttotal: 1m 49s\tremaining: 1m 20s\n",
      "576:\tlearn: 0.0563480\ttotal: 1m 50s\tremaining: 1m 20s\n",
      "577:\tlearn: 0.0563304\ttotal: 1m 50s\tremaining: 1m 20s\n",
      "578:\tlearn: 0.0563168\ttotal: 1m 50s\tremaining: 1m 20s\n",
      "579:\tlearn: 0.0561984\ttotal: 1m 50s\tremaining: 1m 20s\n",
      "580:\tlearn: 0.0561271\ttotal: 1m 50s\tremaining: 1m 19s\n",
      "581:\tlearn: 0.0560307\ttotal: 1m 51s\tremaining: 1m 19s\n",
      "582:\tlearn: 0.0559863\ttotal: 1m 51s\tremaining: 1m 19s\n",
      "583:\tlearn: 0.0558566\ttotal: 1m 51s\tremaining: 1m 19s\n",
      "584:\tlearn: 0.0558430\ttotal: 1m 51s\tremaining: 1m 19s\n",
      "585:\tlearn: 0.0558294\ttotal: 1m 51s\tremaining: 1m 18s\n",
      "586:\tlearn: 0.0556996\ttotal: 1m 51s\tremaining: 1m 18s\n",
      "587:\tlearn: 0.0556375\ttotal: 1m 52s\tremaining: 1m 18s\n",
      "588:\tlearn: 0.0555310\ttotal: 1m 52s\tremaining: 1m 18s\n",
      "589:\tlearn: 0.0555176\ttotal: 1m 52s\tremaining: 1m 18s\n",
      "590:\tlearn: 0.0554977\ttotal: 1m 52s\tremaining: 1m 17s\n",
      "591:\tlearn: 0.0553848\ttotal: 1m 52s\tremaining: 1m 17s\n",
      "592:\tlearn: 0.0553634\ttotal: 1m 52s\tremaining: 1m 17s\n",
      "593:\tlearn: 0.0553501\ttotal: 1m 53s\tremaining: 1m 17s\n",
      "594:\tlearn: 0.0553368\ttotal: 1m 53s\tremaining: 1m 17s\n",
      "595:\tlearn: 0.0551295\ttotal: 1m 53s\tremaining: 1m 16s\n",
      "596:\tlearn: 0.0551057\ttotal: 1m 53s\tremaining: 1m 16s\n",
      "597:\tlearn: 0.0550463\ttotal: 1m 53s\tremaining: 1m 16s\n",
      "598:\tlearn: 0.0550332\ttotal: 1m 53s\tremaining: 1m 16s\n",
      "599:\tlearn: 0.0549919\ttotal: 1m 53s\tremaining: 1m 15s\n",
      "600:\tlearn: 0.0549689\ttotal: 1m 54s\tremaining: 1m 15s\n",
      "601:\tlearn: 0.0549558\ttotal: 1m 54s\tremaining: 1m 15s\n",
      "602:\tlearn: 0.0549354\ttotal: 1m 54s\tremaining: 1m 15s\n",
      "603:\tlearn: 0.0549224\ttotal: 1m 54s\tremaining: 1m 15s\n",
      "604:\tlearn: 0.0548412\ttotal: 1m 54s\tremaining: 1m 15s\n",
      "605:\tlearn: 0.0548282\ttotal: 1m 55s\tremaining: 1m 14s\n",
      "606:\tlearn: 0.0547599\ttotal: 1m 55s\tremaining: 1m 14s\n",
      "607:\tlearn: 0.0546676\ttotal: 1m 55s\tremaining: 1m 14s\n",
      "608:\tlearn: 0.0546547\ttotal: 1m 55s\tremaining: 1m 14s\n",
      "609:\tlearn: 0.0546384\ttotal: 1m 55s\tremaining: 1m 14s\n",
      "610:\tlearn: 0.0545903\ttotal: 1m 55s\tremaining: 1m 13s\n",
      "611:\tlearn: 0.0545776\ttotal: 1m 56s\tremaining: 1m 13s\n",
      "612:\tlearn: 0.0545648\ttotal: 1m 56s\tremaining: 1m 13s\n",
      "613:\tlearn: 0.0545450\ttotal: 1m 56s\tremaining: 1m 13s\n",
      "614:\tlearn: 0.0544725\ttotal: 1m 56s\tremaining: 1m 12s\n",
      "615:\tlearn: 0.0544598\ttotal: 1m 56s\tremaining: 1m 12s\n",
      "616:\tlearn: 0.0543965\ttotal: 1m 56s\tremaining: 1m 12s\n",
      "617:\tlearn: 0.0543078\ttotal: 1m 56s\tremaining: 1m 12s\n",
      "618:\tlearn: 0.0542952\ttotal: 1m 57s\tremaining: 1m 12s\n",
      "619:\tlearn: 0.0542826\ttotal: 1m 57s\tremaining: 1m 11s\n",
      "620:\tlearn: 0.0540956\ttotal: 1m 57s\tremaining: 1m 11s\n",
      "621:\tlearn: 0.0540683\ttotal: 1m 57s\tremaining: 1m 11s\n",
      "622:\tlearn: 0.0540560\ttotal: 1m 57s\tremaining: 1m 11s\n",
      "623:\tlearn: 0.0540430\ttotal: 1m 58s\tremaining: 1m 11s\n",
      "624:\tlearn: 0.0540306\ttotal: 1m 58s\tremaining: 1m 10s\n",
      "625:\tlearn: 0.0540182\ttotal: 1m 58s\tremaining: 1m 10s\n",
      "626:\tlearn: 0.0538843\ttotal: 1m 58s\tremaining: 1m 10s\n",
      "627:\tlearn: 0.0538696\ttotal: 1m 58s\tremaining: 1m 10s\n",
      "628:\tlearn: 0.0538573\ttotal: 1m 58s\tremaining: 1m 10s\n",
      "629:\tlearn: 0.0536715\ttotal: 1m 59s\tremaining: 1m 9s\n",
      "630:\tlearn: 0.0536518\ttotal: 1m 59s\tremaining: 1m 9s\n",
      "631:\tlearn: 0.0535331\ttotal: 1m 59s\tremaining: 1m 9s\n",
      "632:\tlearn: 0.0535021\ttotal: 1m 59s\tremaining: 1m 9s\n",
      "633:\tlearn: 0.0534898\ttotal: 1m 59s\tremaining: 1m 9s\n",
      "634:\tlearn: 0.0534758\ttotal: 1m 59s\tremaining: 1m 8s\n",
      "635:\tlearn: 0.0534040\ttotal: 2m\tremaining: 1m 8s\n",
      "636:\tlearn: 0.0532854\ttotal: 2m\tremaining: 1m 8s\n",
      "637:\tlearn: 0.0532732\ttotal: 2m\tremaining: 1m 8s\n",
      "638:\tlearn: 0.0532611\ttotal: 2m\tremaining: 1m 8s\n",
      "639:\tlearn: 0.0532490\ttotal: 2m\tremaining: 1m 7s\n",
      "640:\tlearn: 0.0531504\ttotal: 2m\tremaining: 1m 7s\n",
      "641:\tlearn: 0.0530840\ttotal: 2m\tremaining: 1m 7s\n",
      "642:\tlearn: 0.0530720\ttotal: 2m 1s\tremaining: 1m 7s\n",
      "643:\tlearn: 0.0530542\ttotal: 2m 1s\tremaining: 1m 7s\n",
      "644:\tlearn: 0.0530422\ttotal: 2m 1s\tremaining: 1m 7s\n",
      "645:\tlearn: 0.0530219\ttotal: 2m 1s\tremaining: 1m 6s\n",
      "646:\tlearn: 0.0529684\ttotal: 2m 2s\tremaining: 1m 6s\n",
      "647:\tlearn: 0.0529186\ttotal: 2m 2s\tremaining: 1m 6s\n",
      "648:\tlearn: 0.0528678\ttotal: 2m 2s\tremaining: 1m 6s\n",
      "649:\tlearn: 0.0528557\ttotal: 2m 2s\tremaining: 1m 6s\n",
      "650:\tlearn: 0.0528438\ttotal: 2m 2s\tremaining: 1m 5s\n",
      "651:\tlearn: 0.0528319\ttotal: 2m 2s\tremaining: 1m 5s\n",
      "652:\tlearn: 0.0528060\ttotal: 2m 3s\tremaining: 1m 5s\n",
      "653:\tlearn: 0.0527941\ttotal: 2m 3s\tremaining: 1m 5s\n",
      "654:\tlearn: 0.0527792\ttotal: 2m 3s\tremaining: 1m 4s\n",
      "655:\tlearn: 0.0527674\ttotal: 2m 3s\tremaining: 1m 4s\n",
      "656:\tlearn: 0.0527035\ttotal: 2m 3s\tremaining: 1m 4s\n",
      "657:\tlearn: 0.0526619\ttotal: 2m 3s\tremaining: 1m 4s\n",
      "658:\tlearn: 0.0526502\ttotal: 2m 3s\tremaining: 1m 4s\n",
      "659:\tlearn: 0.0526044\ttotal: 2m 4s\tremaining: 1m 3s\n",
      "660:\tlearn: 0.0525927\ttotal: 2m 4s\tremaining: 1m 3s\n",
      "661:\tlearn: 0.0525799\ttotal: 2m 4s\tremaining: 1m 3s\n",
      "662:\tlearn: 0.0525684\ttotal: 2m 4s\tremaining: 1m 3s\n",
      "663:\tlearn: 0.0524070\ttotal: 2m 4s\tremaining: 1m 3s\n",
      "664:\tlearn: 0.0523262\ttotal: 2m 4s\tremaining: 1m 2s\n",
      "665:\tlearn: 0.0523146\ttotal: 2m 5s\tremaining: 1m 2s\n",
      "666:\tlearn: 0.0523030\ttotal: 2m 5s\tremaining: 1m 2s\n",
      "667:\tlearn: 0.0521915\ttotal: 2m 5s\tremaining: 1m 2s\n",
      "668:\tlearn: 0.0521799\ttotal: 2m 5s\tremaining: 1m 2s\n",
      "669:\tlearn: 0.0520760\ttotal: 2m 5s\tremaining: 1m 1s\n",
      "670:\tlearn: 0.0520645\ttotal: 2m 6s\tremaining: 1m 1s\n",
      "671:\tlearn: 0.0520531\ttotal: 2m 6s\tremaining: 1m 1s\n",
      "672:\tlearn: 0.0520418\ttotal: 2m 6s\tremaining: 1m 1s\n",
      "673:\tlearn: 0.0520305\ttotal: 2m 6s\tremaining: 1m 1s\n",
      "674:\tlearn: 0.0520192\ttotal: 2m 6s\tremaining: 1m\n",
      "675:\tlearn: 0.0520032\ttotal: 2m 6s\tremaining: 1m\n",
      "676:\tlearn: 0.0519765\ttotal: 2m 6s\tremaining: 1m\n",
      "677:\tlearn: 0.0519579\ttotal: 2m 7s\tremaining: 1m\n",
      "678:\tlearn: 0.0519467\ttotal: 2m 7s\tremaining: 1m\n",
      "679:\tlearn: 0.0519278\ttotal: 2m 7s\tremaining: 60s\n",
      "680:\tlearn: 0.0519052\ttotal: 2m 7s\tremaining: 59.8s\n",
      "681:\tlearn: 0.0517417\ttotal: 2m 7s\tremaining: 59.6s\n",
      "682:\tlearn: 0.0517283\ttotal: 2m 7s\tremaining: 59.4s\n",
      "683:\tlearn: 0.0517107\ttotal: 2m 8s\tremaining: 59.2s\n",
      "684:\tlearn: 0.0516737\ttotal: 2m 8s\tremaining: 59s\n",
      "685:\tlearn: 0.0516626\ttotal: 2m 8s\tremaining: 58.8s\n",
      "686:\tlearn: 0.0516494\ttotal: 2m 8s\tremaining: 58.6s\n",
      "687:\tlearn: 0.0516319\ttotal: 2m 8s\tremaining: 58.4s\n",
      "688:\tlearn: 0.0514759\ttotal: 2m 8s\tremaining: 58.2s\n",
      "689:\tlearn: 0.0514532\ttotal: 2m 9s\tremaining: 58s\n",
      "690:\tlearn: 0.0514399\ttotal: 2m 9s\tremaining: 57.8s\n",
      "691:\tlearn: 0.0513994\ttotal: 2m 9s\tremaining: 57.6s\n",
      "692:\tlearn: 0.0513772\ttotal: 2m 9s\tremaining: 57.4s\n",
      "693:\tlearn: 0.0513660\ttotal: 2m 9s\tremaining: 57.2s\n",
      "694:\tlearn: 0.0513232\ttotal: 2m 9s\tremaining: 57s\n",
      "695:\tlearn: 0.0513121\ttotal: 2m 10s\tremaining: 56.8s\n",
      "696:\tlearn: 0.0512375\ttotal: 2m 10s\tremaining: 56.7s\n",
      "697:\tlearn: 0.0512013\ttotal: 2m 10s\tremaining: 56.5s\n",
      "698:\tlearn: 0.0510649\ttotal: 2m 10s\tremaining: 56.3s\n",
      "699:\tlearn: 0.0510537\ttotal: 2m 10s\tremaining: 56.1s\n",
      "700:\tlearn: 0.0509824\ttotal: 2m 10s\tremaining: 55.9s\n",
      "701:\tlearn: 0.0509714\ttotal: 2m 11s\tremaining: 55.7s\n",
      "702:\tlearn: 0.0509542\ttotal: 2m 11s\tremaining: 55.5s\n",
      "703:\tlearn: 0.0508809\ttotal: 2m 11s\tremaining: 55.3s\n",
      "704:\tlearn: 0.0508700\ttotal: 2m 11s\tremaining: 55.1s\n",
      "705:\tlearn: 0.0507309\ttotal: 2m 11s\tremaining: 54.9s\n",
      "706:\tlearn: 0.0507200\ttotal: 2m 11s\tremaining: 54.7s\n",
      "707:\tlearn: 0.0507092\ttotal: 2m 12s\tremaining: 54.5s\n",
      "708:\tlearn: 0.0505308\ttotal: 2m 12s\tremaining: 54.3s\n",
      "709:\tlearn: 0.0503127\ttotal: 2m 12s\tremaining: 54.1s\n",
      "710:\tlearn: 0.0502959\ttotal: 2m 12s\tremaining: 53.9s\n",
      "711:\tlearn: 0.0502850\ttotal: 2m 12s\tremaining: 53.7s\n",
      "712:\tlearn: 0.0501125\ttotal: 2m 13s\tremaining: 53.5s\n",
      "713:\tlearn: 0.0499441\ttotal: 2m 13s\tremaining: 53.4s\n",
      "714:\tlearn: 0.0499272\ttotal: 2m 13s\tremaining: 53.3s\n",
      "715:\tlearn: 0.0498762\ttotal: 2m 13s\tremaining: 53.1s\n",
      "716:\tlearn: 0.0498653\ttotal: 2m 13s\tremaining: 52.9s\n",
      "717:\tlearn: 0.0498474\ttotal: 2m 14s\tremaining: 52.7s\n",
      "718:\tlearn: 0.0498369\ttotal: 2m 14s\tremaining: 52.5s\n",
      "719:\tlearn: 0.0498262\ttotal: 2m 14s\tremaining: 52.3s\n",
      "720:\tlearn: 0.0498155\ttotal: 2m 14s\tremaining: 52.1s\n",
      "721:\tlearn: 0.0498049\ttotal: 2m 14s\tremaining: 51.9s\n",
      "722:\tlearn: 0.0496632\ttotal: 2m 14s\tremaining: 51.7s\n",
      "723:\tlearn: 0.0495672\ttotal: 2m 15s\tremaining: 51.5s\n",
      "724:\tlearn: 0.0495502\ttotal: 2m 15s\tremaining: 51.3s\n",
      "725:\tlearn: 0.0495086\ttotal: 2m 15s\tremaining: 51.2s\n",
      "726:\tlearn: 0.0494980\ttotal: 2m 15s\tremaining: 51s\n",
      "727:\tlearn: 0.0494577\ttotal: 2m 16s\tremaining: 50.8s\n",
      "728:\tlearn: 0.0494473\ttotal: 2m 16s\tremaining: 50.7s\n",
      "729:\tlearn: 0.0493901\ttotal: 2m 16s\tremaining: 50.5s\n",
      "730:\tlearn: 0.0493454\ttotal: 2m 16s\tremaining: 50.3s\n",
      "731:\tlearn: 0.0493349\ttotal: 2m 16s\tremaining: 50.1s\n",
      "732:\tlearn: 0.0492414\ttotal: 2m 16s\tremaining: 49.9s\n",
      "733:\tlearn: 0.0490790\ttotal: 2m 17s\tremaining: 49.7s\n",
      "734:\tlearn: 0.0490631\ttotal: 2m 17s\tremaining: 49.5s\n",
      "735:\tlearn: 0.0489994\ttotal: 2m 17s\tremaining: 49.3s\n",
      "736:\tlearn: 0.0489889\ttotal: 2m 17s\tremaining: 49.1s\n",
      "737:\tlearn: 0.0489785\ttotal: 2m 17s\tremaining: 48.9s\n",
      "738:\tlearn: 0.0489682\ttotal: 2m 17s\tremaining: 48.7s\n",
      "739:\tlearn: 0.0488437\ttotal: 2m 18s\tremaining: 48.5s\n",
      "740:\tlearn: 0.0488271\ttotal: 2m 18s\tremaining: 48.3s\n",
      "741:\tlearn: 0.0487378\ttotal: 2m 18s\tremaining: 48.1s\n",
      "742:\tlearn: 0.0487275\ttotal: 2m 18s\tremaining: 48s\n",
      "743:\tlearn: 0.0487072\ttotal: 2m 19s\tremaining: 47.8s\n",
      "744:\tlearn: 0.0486971\ttotal: 2m 19s\tremaining: 47.7s\n",
      "745:\tlearn: 0.0486799\ttotal: 2m 19s\tremaining: 47.5s\n",
      "746:\tlearn: 0.0486697\ttotal: 2m 19s\tremaining: 47.3s\n",
      "747:\tlearn: 0.0486597\ttotal: 2m 19s\tremaining: 47.1s\n",
      "748:\tlearn: 0.0486496\ttotal: 2m 19s\tremaining: 46.9s\n",
      "749:\tlearn: 0.0486396\ttotal: 2m 20s\tremaining: 46.7s\n",
      "750:\tlearn: 0.0485287\ttotal: 2m 20s\tremaining: 46.5s\n",
      "751:\tlearn: 0.0485113\ttotal: 2m 20s\tremaining: 46.3s\n",
      "752:\tlearn: 0.0485013\ttotal: 2m 20s\tremaining: 46.1s\n",
      "753:\tlearn: 0.0484349\ttotal: 2m 20s\tremaining: 45.9s\n",
      "754:\tlearn: 0.0484249\ttotal: 2m 20s\tremaining: 45.7s\n",
      "755:\tlearn: 0.0482749\ttotal: 2m 21s\tremaining: 45.5s\n",
      "756:\tlearn: 0.0482587\ttotal: 2m 21s\tremaining: 45.3s\n",
      "757:\tlearn: 0.0481420\ttotal: 2m 21s\tremaining: 45.2s\n",
      "758:\tlearn: 0.0481162\ttotal: 2m 21s\tremaining: 45s\n",
      "759:\tlearn: 0.0479404\ttotal: 2m 21s\tremaining: 44.8s\n",
      "760:\tlearn: 0.0479279\ttotal: 2m 21s\tremaining: 44.6s\n",
      "761:\tlearn: 0.0479061\ttotal: 2m 22s\tremaining: 44.4s\n",
      "762:\tlearn: 0.0478900\ttotal: 2m 22s\tremaining: 44.2s\n",
      "763:\tlearn: 0.0478117\ttotal: 2m 22s\tremaining: 44.1s\n",
      "764:\tlearn: 0.0477724\ttotal: 2m 22s\tremaining: 43.9s\n",
      "765:\tlearn: 0.0477554\ttotal: 2m 23s\tremaining: 43.7s\n",
      "766:\tlearn: 0.0477454\ttotal: 2m 23s\tremaining: 43.5s\n",
      "767:\tlearn: 0.0477296\ttotal: 2m 23s\tremaining: 43.3s\n",
      "768:\tlearn: 0.0476606\ttotal: 2m 23s\tremaining: 43.2s\n",
      "769:\tlearn: 0.0476508\ttotal: 2m 23s\tremaining: 43s\n",
      "770:\tlearn: 0.0475763\ttotal: 2m 23s\tremaining: 42.8s\n",
      "771:\tlearn: 0.0475666\ttotal: 2m 24s\tremaining: 42.6s\n",
      "772:\tlearn: 0.0475568\ttotal: 2m 24s\tremaining: 42.4s\n",
      "773:\tlearn: 0.0475471\ttotal: 2m 24s\tremaining: 42.2s\n",
      "774:\tlearn: 0.0475264\ttotal: 2m 24s\tremaining: 42s\n",
      "775:\tlearn: 0.0475111\ttotal: 2m 24s\tremaining: 41.8s\n",
      "776:\tlearn: 0.0473810\ttotal: 2m 25s\tremaining: 41.7s\n",
      "777:\tlearn: 0.0473495\ttotal: 2m 25s\tremaining: 41.5s\n",
      "778:\tlearn: 0.0473398\ttotal: 2m 25s\tremaining: 41.3s\n",
      "779:\tlearn: 0.0471894\ttotal: 2m 25s\tremaining: 41.1s\n",
      "780:\tlearn: 0.0471797\ttotal: 2m 25s\tremaining: 40.9s\n",
      "781:\tlearn: 0.0471702\ttotal: 2m 25s\tremaining: 40.7s\n",
      "782:\tlearn: 0.0471113\ttotal: 2m 26s\tremaining: 40.5s\n",
      "783:\tlearn: 0.0470984\ttotal: 2m 26s\tremaining: 40.3s\n",
      "784:\tlearn: 0.0470832\ttotal: 2m 26s\tremaining: 40.1s\n",
      "785:\tlearn: 0.0470005\ttotal: 2m 26s\tremaining: 39.9s\n",
      "786:\tlearn: 0.0469910\ttotal: 2m 26s\tremaining: 39.7s\n",
      "787:\tlearn: 0.0469814\ttotal: 2m 26s\tremaining: 39.5s\n",
      "788:\tlearn: 0.0468651\ttotal: 2m 27s\tremaining: 39.3s\n",
      "789:\tlearn: 0.0468238\ttotal: 2m 27s\tremaining: 39.1s\n",
      "790:\tlearn: 0.0468143\ttotal: 2m 27s\tremaining: 39s\n",
      "791:\tlearn: 0.0466746\ttotal: 2m 27s\tremaining: 38.8s\n",
      "792:\tlearn: 0.0466578\ttotal: 2m 27s\tremaining: 38.6s\n",
      "793:\tlearn: 0.0466484\ttotal: 2m 27s\tremaining: 38.4s\n",
      "794:\tlearn: 0.0466390\ttotal: 2m 28s\tremaining: 38.2s\n",
      "795:\tlearn: 0.0466297\ttotal: 2m 28s\tremaining: 38s\n",
      "796:\tlearn: 0.0465887\ttotal: 2m 28s\tremaining: 37.8s\n",
      "797:\tlearn: 0.0465793\ttotal: 2m 28s\tremaining: 37.6s\n",
      "798:\tlearn: 0.0465645\ttotal: 2m 28s\tremaining: 37.5s\n",
      "799:\tlearn: 0.0465228\ttotal: 2m 29s\tremaining: 37.3s\n",
      "800:\tlearn: 0.0465135\ttotal: 2m 29s\tremaining: 37.1s\n",
      "801:\tlearn: 0.0465043\ttotal: 2m 29s\tremaining: 36.9s\n",
      "802:\tlearn: 0.0464460\ttotal: 2m 29s\tremaining: 36.7s\n",
      "803:\tlearn: 0.0463976\ttotal: 2m 29s\tremaining: 36.5s\n",
      "804:\tlearn: 0.0463074\ttotal: 2m 29s\tremaining: 36.3s\n",
      "805:\tlearn: 0.0462981\ttotal: 2m 30s\tremaining: 36.1s\n",
      "806:\tlearn: 0.0462881\ttotal: 2m 30s\tremaining: 35.9s\n",
      "807:\tlearn: 0.0462789\ttotal: 2m 30s\tremaining: 35.7s\n",
      "808:\tlearn: 0.0461562\ttotal: 2m 30s\tremaining: 35.5s\n",
      "809:\tlearn: 0.0461405\ttotal: 2m 30s\tremaining: 35.3s\n",
      "810:\tlearn: 0.0461314\ttotal: 2m 30s\tremaining: 35.2s\n",
      "811:\tlearn: 0.0460552\ttotal: 2m 31s\tremaining: 35s\n",
      "812:\tlearn: 0.0460463\ttotal: 2m 31s\tremaining: 34.8s\n",
      "813:\tlearn: 0.0459828\ttotal: 2m 31s\tremaining: 34.6s\n",
      "814:\tlearn: 0.0459632\ttotal: 2m 31s\tremaining: 34.4s\n",
      "815:\tlearn: 0.0459275\ttotal: 2m 31s\tremaining: 34.2s\n",
      "816:\tlearn: 0.0458314\ttotal: 2m 32s\tremaining: 34.1s\n",
      "817:\tlearn: 0.0458136\ttotal: 2m 32s\tremaining: 33.9s\n",
      "818:\tlearn: 0.0458045\ttotal: 2m 32s\tremaining: 33.7s\n",
      "819:\tlearn: 0.0457141\ttotal: 2m 32s\tremaining: 33.5s\n",
      "820:\tlearn: 0.0457052\ttotal: 2m 32s\tremaining: 33.3s\n",
      "821:\tlearn: 0.0456637\ttotal: 2m 33s\tremaining: 33.1s\n",
      "822:\tlearn: 0.0456549\ttotal: 2m 33s\tremaining: 33s\n",
      "823:\tlearn: 0.0456460\ttotal: 2m 33s\tremaining: 32.8s\n",
      "824:\tlearn: 0.0455053\ttotal: 2m 33s\tremaining: 32.6s\n",
      "825:\tlearn: 0.0454841\ttotal: 2m 33s\tremaining: 32.4s\n",
      "826:\tlearn: 0.0454684\ttotal: 2m 33s\tremaining: 32.2s\n",
      "827:\tlearn: 0.0453658\ttotal: 2m 34s\tremaining: 32s\n",
      "828:\tlearn: 0.0453570\ttotal: 2m 34s\tremaining: 31.8s\n",
      "829:\tlearn: 0.0453091\ttotal: 2m 34s\tremaining: 31.6s\n",
      "830:\tlearn: 0.0453004\ttotal: 2m 34s\tremaining: 31.4s\n",
      "831:\tlearn: 0.0452428\ttotal: 2m 34s\tremaining: 31.2s\n",
      "832:\tlearn: 0.0452340\ttotal: 2m 34s\tremaining: 31s\n",
      "833:\tlearn: 0.0452253\ttotal: 2m 35s\tremaining: 30.9s\n",
      "834:\tlearn: 0.0451098\ttotal: 2m 35s\tremaining: 30.7s\n",
      "835:\tlearn: 0.0450223\ttotal: 2m 35s\tremaining: 30.5s\n",
      "836:\tlearn: 0.0450005\ttotal: 2m 35s\tremaining: 30.3s\n",
      "837:\tlearn: 0.0449917\ttotal: 2m 35s\tremaining: 30.1s\n",
      "838:\tlearn: 0.0449831\ttotal: 2m 36s\tremaining: 29.9s\n",
      "839:\tlearn: 0.0449745\ttotal: 2m 36s\tremaining: 29.8s\n",
      "840:\tlearn: 0.0449603\ttotal: 2m 36s\tremaining: 29.6s\n",
      "841:\tlearn: 0.0449517\ttotal: 2m 36s\tremaining: 29.4s\n",
      "842:\tlearn: 0.0449359\ttotal: 2m 36s\tremaining: 29.2s\n",
      "843:\tlearn: 0.0448588\ttotal: 2m 36s\tremaining: 29s\n",
      "844:\tlearn: 0.0447904\ttotal: 2m 37s\tremaining: 28.8s\n",
      "845:\tlearn: 0.0447819\ttotal: 2m 37s\tremaining: 28.6s\n",
      "846:\tlearn: 0.0446922\ttotal: 2m 37s\tremaining: 28.5s\n",
      "847:\tlearn: 0.0446837\ttotal: 2m 37s\tremaining: 28.3s\n",
      "848:\tlearn: 0.0445412\ttotal: 2m 38s\tremaining: 28.1s\n",
      "849:\tlearn: 0.0445323\ttotal: 2m 38s\tremaining: 27.9s\n",
      "850:\tlearn: 0.0445182\ttotal: 2m 38s\tremaining: 27.7s\n",
      "851:\tlearn: 0.0445061\ttotal: 2m 38s\tremaining: 27.5s\n",
      "852:\tlearn: 0.0444974\ttotal: 2m 38s\tremaining: 27.4s\n",
      "853:\tlearn: 0.0444787\ttotal: 2m 38s\tremaining: 27.2s\n",
      "854:\tlearn: 0.0444646\ttotal: 2m 39s\tremaining: 27s\n",
      "855:\tlearn: 0.0444562\ttotal: 2m 39s\tremaining: 26.8s\n",
      "856:\tlearn: 0.0444178\ttotal: 2m 39s\tremaining: 26.6s\n",
      "857:\tlearn: 0.0443978\ttotal: 2m 39s\tremaining: 26.4s\n",
      "858:\tlearn: 0.0443237\ttotal: 2m 39s\tremaining: 26.2s\n",
      "859:\tlearn: 0.0443057\ttotal: 2m 39s\tremaining: 26s\n",
      "860:\tlearn: 0.0442974\ttotal: 2m 40s\tremaining: 25.9s\n",
      "861:\tlearn: 0.0441059\ttotal: 2m 40s\tremaining: 25.7s\n",
      "862:\tlearn: 0.0440976\ttotal: 2m 40s\tremaining: 25.5s\n",
      "863:\tlearn: 0.0440892\ttotal: 2m 40s\tremaining: 25.3s\n",
      "864:\tlearn: 0.0440247\ttotal: 2m 41s\tremaining: 25.1s\n",
      "865:\tlearn: 0.0439952\ttotal: 2m 41s\tremaining: 25s\n",
      "866:\tlearn: 0.0439330\ttotal: 2m 41s\tremaining: 24.8s\n",
      "867:\tlearn: 0.0439233\ttotal: 2m 41s\tremaining: 24.6s\n",
      "868:\tlearn: 0.0438931\ttotal: 2m 41s\tremaining: 24.4s\n",
      "869:\tlearn: 0.0438783\ttotal: 2m 42s\tremaining: 24.2s\n",
      "870:\tlearn: 0.0438700\ttotal: 2m 42s\tremaining: 24s\n",
      "871:\tlearn: 0.0437485\ttotal: 2m 42s\tremaining: 23.8s\n",
      "872:\tlearn: 0.0437352\ttotal: 2m 42s\tremaining: 23.6s\n",
      "873:\tlearn: 0.0437269\ttotal: 2m 42s\tremaining: 23.5s\n",
      "874:\tlearn: 0.0436845\ttotal: 2m 43s\tremaining: 23.3s\n",
      "875:\tlearn: 0.0436763\ttotal: 2m 43s\tremaining: 23.1s\n",
      "876:\tlearn: 0.0436484\ttotal: 2m 43s\tremaining: 22.9s\n",
      "877:\tlearn: 0.0436402\ttotal: 2m 43s\tremaining: 22.8s\n",
      "878:\tlearn: 0.0436261\ttotal: 2m 43s\tremaining: 22.6s\n",
      "879:\tlearn: 0.0436114\ttotal: 2m 44s\tremaining: 22.4s\n",
      "880:\tlearn: 0.0436022\ttotal: 2m 44s\tremaining: 22.2s\n",
      "881:\tlearn: 0.0434688\ttotal: 2m 44s\tremaining: 22s\n",
      "882:\tlearn: 0.0434602\ttotal: 2m 44s\tremaining: 21.8s\n",
      "883:\tlearn: 0.0434522\ttotal: 2m 44s\tremaining: 21.6s\n",
      "884:\tlearn: 0.0434345\ttotal: 2m 45s\tremaining: 21.4s\n",
      "885:\tlearn: 0.0434162\ttotal: 2m 45s\tremaining: 21.3s\n",
      "886:\tlearn: 0.0433299\ttotal: 2m 45s\tremaining: 21.1s\n",
      "887:\tlearn: 0.0433161\ttotal: 2m 45s\tremaining: 20.9s\n",
      "888:\tlearn: 0.0431563\ttotal: 2m 45s\tremaining: 20.7s\n",
      "889:\tlearn: 0.0430546\ttotal: 2m 45s\tremaining: 20.5s\n",
      "890:\tlearn: 0.0430411\ttotal: 2m 46s\tremaining: 20.3s\n",
      "891:\tlearn: 0.0430329\ttotal: 2m 46s\tremaining: 20.2s\n",
      "892:\tlearn: 0.0430247\ttotal: 2m 46s\tremaining: 20s\n",
      "893:\tlearn: 0.0430167\ttotal: 2m 47s\tremaining: 19.8s\n",
      "894:\tlearn: 0.0430087\ttotal: 2m 47s\tremaining: 19.6s\n",
      "895:\tlearn: 0.0429062\ttotal: 2m 47s\tremaining: 19.4s\n",
      "896:\tlearn: 0.0428983\ttotal: 2m 47s\tremaining: 19.3s\n",
      "897:\tlearn: 0.0428845\ttotal: 2m 47s\tremaining: 19.1s\n",
      "898:\tlearn: 0.0427842\ttotal: 2m 48s\tremaining: 18.9s\n",
      "899:\tlearn: 0.0427354\ttotal: 2m 48s\tremaining: 18.7s\n",
      "900:\tlearn: 0.0427274\ttotal: 2m 48s\tremaining: 18.5s\n",
      "901:\tlearn: 0.0427195\ttotal: 2m 48s\tremaining: 18.3s\n",
      "902:\tlearn: 0.0427117\ttotal: 2m 48s\tremaining: 18.1s\n",
      "903:\tlearn: 0.0426206\ttotal: 2m 48s\tremaining: 17.9s\n",
      "904:\tlearn: 0.0426072\ttotal: 2m 49s\tremaining: 17.7s\n",
      "905:\tlearn: 0.0425187\ttotal: 2m 49s\tremaining: 17.6s\n",
      "906:\tlearn: 0.0424368\ttotal: 2m 49s\tremaining: 17.4s\n",
      "907:\tlearn: 0.0424284\ttotal: 2m 49s\tremaining: 17.2s\n",
      "908:\tlearn: 0.0423990\ttotal: 2m 49s\tremaining: 17s\n",
      "909:\tlearn: 0.0423735\ttotal: 2m 50s\tremaining: 16.8s\n",
      "910:\tlearn: 0.0423658\ttotal: 2m 50s\tremaining: 16.6s\n",
      "911:\tlearn: 0.0423021\ttotal: 2m 50s\tremaining: 16.4s\n",
      "912:\tlearn: 0.0422943\ttotal: 2m 50s\tremaining: 16.3s\n",
      "913:\tlearn: 0.0422866\ttotal: 2m 50s\tremaining: 16.1s\n",
      "914:\tlearn: 0.0422788\ttotal: 2m 50s\tremaining: 15.9s\n",
      "915:\tlearn: 0.0421948\ttotal: 2m 51s\tremaining: 15.7s\n",
      "916:\tlearn: 0.0421816\ttotal: 2m 51s\tremaining: 15.5s\n",
      "917:\tlearn: 0.0421149\ttotal: 2m 51s\tremaining: 15.3s\n",
      "918:\tlearn: 0.0421072\ttotal: 2m 51s\tremaining: 15.1s\n",
      "919:\tlearn: 0.0420773\ttotal: 2m 51s\tremaining: 14.9s\n",
      "920:\tlearn: 0.0420654\ttotal: 2m 51s\tremaining: 14.7s\n",
      "921:\tlearn: 0.0420577\ttotal: 2m 52s\tremaining: 14.6s\n",
      "922:\tlearn: 0.0420279\ttotal: 2m 52s\tremaining: 14.4s\n",
      "923:\tlearn: 0.0420034\ttotal: 2m 52s\tremaining: 14.2s\n",
      "924:\tlearn: 0.0419248\ttotal: 2m 52s\tremaining: 14s\n",
      "925:\tlearn: 0.0419171\ttotal: 2m 52s\tremaining: 13.8s\n",
      "926:\tlearn: 0.0419062\ttotal: 2m 52s\tremaining: 13.6s\n",
      "927:\tlearn: 0.0418984\ttotal: 2m 53s\tremaining: 13.4s\n",
      "928:\tlearn: 0.0418909\ttotal: 2m 53s\tremaining: 13.2s\n",
      "929:\tlearn: 0.0418834\ttotal: 2m 53s\tremaining: 13s\n",
      "930:\tlearn: 0.0418759\ttotal: 2m 53s\tremaining: 12.9s\n",
      "931:\tlearn: 0.0418634\ttotal: 2m 53s\tremaining: 12.7s\n",
      "932:\tlearn: 0.0417556\ttotal: 2m 54s\tremaining: 12.5s\n",
      "933:\tlearn: 0.0417426\ttotal: 2m 54s\tremaining: 12.3s\n",
      "934:\tlearn: 0.0416497\ttotal: 2m 54s\tremaining: 12.1s\n",
      "935:\tlearn: 0.0416338\ttotal: 2m 54s\tremaining: 11.9s\n",
      "936:\tlearn: 0.0416263\ttotal: 2m 54s\tremaining: 11.8s\n",
      "937:\tlearn: 0.0416189\ttotal: 2m 54s\tremaining: 11.6s\n",
      "938:\tlearn: 0.0415902\ttotal: 2m 55s\tremaining: 11.4s\n",
      "939:\tlearn: 0.0415829\ttotal: 2m 55s\tremaining: 11.2s\n",
      "940:\tlearn: 0.0415677\ttotal: 2m 55s\tremaining: 11s\n",
      "941:\tlearn: 0.0415556\ttotal: 2m 55s\tremaining: 10.8s\n",
      "942:\tlearn: 0.0415483\ttotal: 2m 55s\tremaining: 10.6s\n",
      "943:\tlearn: 0.0414565\ttotal: 2m 55s\tremaining: 10.4s\n",
      "944:\tlearn: 0.0414487\ttotal: 2m 56s\tremaining: 10.3s\n",
      "945:\tlearn: 0.0413576\ttotal: 2m 56s\tremaining: 10.1s\n",
      "946:\tlearn: 0.0413450\ttotal: 2m 56s\tremaining: 9.88s\n",
      "947:\tlearn: 0.0413311\ttotal: 2m 56s\tremaining: 9.69s\n",
      "948:\tlearn: 0.0413237\ttotal: 2m 56s\tremaining: 9.51s\n",
      "949:\tlearn: 0.0412911\ttotal: 2m 57s\tremaining: 9.33s\n",
      "950:\tlearn: 0.0412838\ttotal: 2m 57s\tremaining: 9.14s\n",
      "951:\tlearn: 0.0412765\ttotal: 2m 57s\tremaining: 8.96s\n",
      "952:\tlearn: 0.0412602\ttotal: 2m 57s\tremaining: 8.77s\n",
      "953:\tlearn: 0.0411276\ttotal: 2m 58s\tremaining: 8.58s\n",
      "954:\tlearn: 0.0411135\ttotal: 2m 58s\tremaining: 8.4s\n",
      "955:\tlearn: 0.0411063\ttotal: 2m 58s\tremaining: 8.21s\n",
      "956:\tlearn: 0.0410990\ttotal: 2m 58s\tremaining: 8.02s\n",
      "957:\tlearn: 0.0410717\ttotal: 2m 58s\tremaining: 7.84s\n",
      "958:\tlearn: 0.0410645\ttotal: 2m 58s\tremaining: 7.65s\n",
      "959:\tlearn: 0.0410573\ttotal: 2m 59s\tremaining: 7.47s\n",
      "960:\tlearn: 0.0410196\ttotal: 2m 59s\tremaining: 7.28s\n",
      "961:\tlearn: 0.0410120\ttotal: 2m 59s\tremaining: 7.1s\n",
      "962:\tlearn: 0.0409191\ttotal: 2m 59s\tremaining: 6.91s\n",
      "963:\tlearn: 0.0408914\ttotal: 3m\tremaining: 6.72s\n",
      "964:\tlearn: 0.0408796\ttotal: 3m\tremaining: 6.54s\n",
      "965:\tlearn: 0.0408391\ttotal: 3m\tremaining: 6.35s\n",
      "966:\tlearn: 0.0408241\ttotal: 3m\tremaining: 6.16s\n",
      "967:\tlearn: 0.0408169\ttotal: 3m\tremaining: 5.97s\n",
      "968:\tlearn: 0.0407529\ttotal: 3m\tremaining: 5.79s\n",
      "969:\tlearn: 0.0407320\ttotal: 3m 1s\tremaining: 5.6s\n",
      "970:\tlearn: 0.0407201\ttotal: 3m 1s\tremaining: 5.42s\n",
      "971:\tlearn: 0.0407129\ttotal: 3m 1s\tremaining: 5.24s\n",
      "972:\tlearn: 0.0406427\ttotal: 3m 2s\tremaining: 5.05s\n",
      "973:\tlearn: 0.0406351\ttotal: 3m 2s\tremaining: 4.87s\n",
      "974:\tlearn: 0.0406280\ttotal: 3m 2s\tremaining: 4.68s\n",
      "975:\tlearn: 0.0405295\ttotal: 3m 2s\tremaining: 4.49s\n",
      "976:\tlearn: 0.0405207\ttotal: 3m 2s\tremaining: 4.31s\n",
      "977:\tlearn: 0.0405074\ttotal: 3m 3s\tremaining: 4.12s\n",
      "978:\tlearn: 0.0405004\ttotal: 3m 3s\tremaining: 3.93s\n",
      "979:\tlearn: 0.0404933\ttotal: 3m 3s\tremaining: 3.74s\n",
      "980:\tlearn: 0.0403123\ttotal: 3m 3s\tremaining: 3.56s\n",
      "981:\tlearn: 0.0403007\ttotal: 3m 3s\tremaining: 3.37s\n",
      "982:\tlearn: 0.0402083\ttotal: 3m 4s\tremaining: 3.18s\n",
      "983:\tlearn: 0.0402008\ttotal: 3m 4s\tremaining: 3s\n",
      "984:\tlearn: 0.0401857\ttotal: 3m 4s\tremaining: 2.81s\n",
      "985:\tlearn: 0.0401783\ttotal: 3m 4s\tremaining: 2.62s\n",
      "986:\tlearn: 0.0400928\ttotal: 3m 4s\tremaining: 2.44s\n",
      "987:\tlearn: 0.0400854\ttotal: 3m 5s\tremaining: 2.25s\n",
      "988:\tlearn: 0.0400785\ttotal: 3m 5s\tremaining: 2.06s\n",
      "989:\tlearn: 0.0400698\ttotal: 3m 5s\tremaining: 1.87s\n",
      "990:\tlearn: 0.0400308\ttotal: 3m 5s\tremaining: 1.69s\n",
      "991:\tlearn: 0.0399843\ttotal: 3m 5s\tremaining: 1.5s\n",
      "992:\tlearn: 0.0399774\ttotal: 3m 6s\tremaining: 1.31s\n",
      "993:\tlearn: 0.0399463\ttotal: 3m 6s\tremaining: 1.13s\n",
      "994:\tlearn: 0.0399393\ttotal: 3m 6s\tremaining: 938ms\n",
      "995:\tlearn: 0.0398485\ttotal: 3m 6s\tremaining: 750ms\n",
      "996:\tlearn: 0.0398412\ttotal: 3m 7s\tremaining: 563ms\n",
      "997:\tlearn: 0.0398344\ttotal: 3m 7s\tremaining: 375ms\n",
      "998:\tlearn: 0.0398275\ttotal: 3m 7s\tremaining: 188ms\n",
      "999:\tlearn: 0.0398208\ttotal: 3m 7s\tremaining: 0us\n"
     ]
    },
    {
     "data": {
      "text/plain": "<catboost.core.CatBoostClassifier at 0x2d33d4610>"
     },
     "execution_count": 101,
     "metadata": {},
     "output_type": "execute_result"
    }
   ],
   "source": [
    "model_catboost.fit(vec_train, y_train)"
   ],
   "metadata": {
    "collapsed": false,
    "pycharm": {
     "name": "#%%\n"
    }
   }
  },
  {
   "cell_type": "code",
   "execution_count": 102,
   "outputs": [],
   "source": [
    "y_pred_catboost = model_catboost.predict(vec_test)"
   ],
   "metadata": {
    "collapsed": false,
    "pycharm": {
     "name": "#%%\n"
    }
   }
  },
  {
   "cell_type": "code",
   "execution_count": 103,
   "outputs": [
    {
     "name": "stdout",
     "output_type": "stream",
     "text": [
      "CatBoost:  98.59426681367145\n"
     ]
    }
   ],
   "source": [
    "print(\"CatBoost: \", accuracy_score(y_test, y_pred_catboost) * 100)"
   ],
   "metadata": {
    "collapsed": false,
    "pycharm": {
     "name": "#%%\n"
    }
   }
  },
  {
   "cell_type": "code",
   "execution_count": 104,
   "outputs": [
    {
     "name": "stdout",
     "output_type": "stream",
     "text": [
      "TN: 2014   FP: 25\n",
      "FN: 26   TP: 1563\n",
      "              precision    recall  f1-score   support\n",
      "\n",
      "           0       0.99      0.99      0.99      2039\n",
      "           1       0.98      0.98      0.98      1589\n",
      "\n",
      "    accuracy                           0.99      3628\n",
      "   macro avg       0.99      0.99      0.99      3628\n",
      "weighted avg       0.99      0.99      0.99      3628\n",
      "\n",
      "Accuracy: 0.985943\n",
      "Precision: 0.984257\n",
      "Recall: 0.983638\n",
      "F1 score: 0.983947\n"
     ]
    }
   ],
   "source": [
    "evaluate(model_catboost, vec_test, y_test)"
   ],
   "metadata": {
    "collapsed": false,
    "pycharm": {
     "name": "#%%\n"
    }
   }
  },
  {
   "cell_type": "code",
   "execution_count": 105,
   "outputs": [
    {
     "name": "stdout",
     "output_type": "stream",
     "text": [
      "Train Accuracy - : 0.999\n",
      "Test Accuracy - : 0.986\n"
     ]
    }
   ],
   "source": [
    "print (f'Train Accuracy - : {model_catboost.score(vec_train,y_train):.3f}')\n",
    "print (f'Test Accuracy - : {model_catboost.score(vec_test,y_test):.3f}')"
   ],
   "metadata": {
    "collapsed": false,
    "pycharm": {
     "name": "#%%\n"
    }
   }
  },
  {
   "cell_type": "markdown",
   "source": [],
   "metadata": {
    "collapsed": false
   }
  },
  {
   "cell_type": "markdown",
   "source": [],
   "metadata": {
    "collapsed": false
   }
  },
  {
   "cell_type": "code",
   "execution_count": 106,
   "outputs": [],
   "source": [
    "import pickle"
   ],
   "metadata": {
    "collapsed": false,
    "pycharm": {
     "name": "#%%\n"
    }
   }
  },
  {
   "cell_type": "code",
   "execution_count": 107,
   "outputs": [],
   "source": [
    "pickle.dump(model_xgboost, open('/Users/ishanranasinghe/Desktop/Fake_News_Test_Master/model_xgboost.pkl', 'wb'))"
   ],
   "metadata": {
    "collapsed": false,
    "pycharm": {
     "name": "#%%\n"
    }
   }
  },
  {
   "cell_type": "code",
   "execution_count": 90,
   "outputs": [],
   "source": [
    "pickle.dump(vectorizer, open('/Users/ishanranasinghe/Desktop/Fake_News_Test_Master/vectorizer.pkl', 'wb'))"
   ],
   "metadata": {
    "collapsed": false,
    "pycharm": {
     "name": "#%%\n"
    }
   }
  }
 ],
 "metadata": {
  "kernelspec": {
   "display_name": "Python 3",
   "language": "python",
   "name": "python3"
  },
  "language_info": {
   "codemirror_mode": {
    "name": "ipython",
    "version": 2
   },
   "file_extension": ".py",
   "mimetype": "text/x-python",
   "name": "python",
   "nbconvert_exporter": "python",
   "pygments_lexer": "ipython2",
   "version": "2.7.6"
  }
 },
 "nbformat": 4,
 "nbformat_minor": 0
}